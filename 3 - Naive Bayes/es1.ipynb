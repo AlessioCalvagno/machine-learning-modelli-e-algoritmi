{
 "cells": [
  {
   "cell_type": "markdown",
   "id": "0bd44303",
   "metadata": {},
   "source": [
    "# Spam Filtering con Naive Bayes\n",
    "Per questa esercitazione dovrai utilizzare l'intero dataset di sms di spam per creare un classificare di spam utilizzando un algoritmo Naive Bayes.\n",
    "#### Task:\n",
    "- Scarica il [dataset da Kaggle](https://www.kaggle.com/datasets/uciml/sms-spam-collection-dataset) (richiede un account gratuito), puoi farlo anche utilizzando le API.\n",
    "- Processa il dataset per ottenere un dataframe con la stessa struttura di quello visto nelle lezioni di pratica.\n",
    "- Costruisci e valuta i tuoi modelli ottimizzando le metriche che reputi corretto ottimizzare in base al problema affrontato.\n",
    "- Una volta selezionato il modello finale, seleziona 3 email spam e 3 email non spam dalla tua casella di posta e prova ad usare il modello per classificarle. (n.b va bene anche se il tuo modello non le classifica tutte correttamente, ricorda che il dataset è di sms non di email)"
   ]
  },
  {
   "cell_type": "markdown",
   "id": "83a16ab3",
   "metadata": {},
   "source": [
    "## Import del dataset"
   ]
  },
  {
   "cell_type": "code",
   "execution_count": 1,
   "id": "b5f22ae5",
   "metadata": {},
   "outputs": [
    {
     "name": "stdout",
     "output_type": "stream",
     "text": [
      "(5572, 2)\n"
     ]
    },
    {
     "data": {
      "text/html": [
       "<div>\n",
       "<style scoped>\n",
       "    .dataframe tbody tr th:only-of-type {\n",
       "        vertical-align: middle;\n",
       "    }\n",
       "\n",
       "    .dataframe tbody tr th {\n",
       "        vertical-align: top;\n",
       "    }\n",
       "\n",
       "    .dataframe thead th {\n",
       "        text-align: right;\n",
       "    }\n",
       "</style>\n",
       "<table border=\"1\" class=\"dataframe\">\n",
       "  <thead>\n",
       "    <tr style=\"text-align: right;\">\n",
       "      <th></th>\n",
       "      <th>v1</th>\n",
       "      <th>v2</th>\n",
       "    </tr>\n",
       "  </thead>\n",
       "  <tbody>\n",
       "    <tr>\n",
       "      <th>0</th>\n",
       "      <td>ham</td>\n",
       "      <td>Go until jurong point, crazy.. Available only ...</td>\n",
       "    </tr>\n",
       "    <tr>\n",
       "      <th>1</th>\n",
       "      <td>ham</td>\n",
       "      <td>Ok lar... Joking wif u oni...</td>\n",
       "    </tr>\n",
       "    <tr>\n",
       "      <th>2</th>\n",
       "      <td>spam</td>\n",
       "      <td>Free entry in 2 a wkly comp to win FA Cup fina...</td>\n",
       "    </tr>\n",
       "    <tr>\n",
       "      <th>3</th>\n",
       "      <td>ham</td>\n",
       "      <td>U dun say so early hor... U c already then say...</td>\n",
       "    </tr>\n",
       "    <tr>\n",
       "      <th>4</th>\n",
       "      <td>ham</td>\n",
       "      <td>Nah I don't think he goes to usf, he lives aro...</td>\n",
       "    </tr>\n",
       "  </tbody>\n",
       "</table>\n",
       "</div>"
      ],
      "text/plain": [
       "     v1                                                 v2\n",
       "0   ham  Go until jurong point, crazy.. Available only ...\n",
       "1   ham                      Ok lar... Joking wif u oni...\n",
       "2  spam  Free entry in 2 a wkly comp to win FA Cup fina...\n",
       "3   ham  U dun say so early hor... U c already then say...\n",
       "4   ham  Nah I don't think he goes to usf, he lives aro..."
      ]
     },
     "execution_count": 1,
     "metadata": {},
     "output_type": "execute_result"
    }
   ],
   "source": [
    "import pandas as pd\n",
    "import numpy as np\n",
    "\n",
    "df = pd.read_csv(\"spam.csv\",usecols=[\"v1\",\"v2\"],encoding=\"latin_1\")\n",
    "\n",
    "print(df.shape)\n",
    "df.head()"
   ]
  },
  {
   "cell_type": "markdown",
   "id": "03ad36c5",
   "metadata": {},
   "source": [
    "Verifica dei valori mancanti"
   ]
  },
  {
   "cell_type": "code",
   "execution_count": 2,
   "id": "3d4edf57",
   "metadata": {},
   "outputs": [
    {
     "data": {
      "text/plain": [
       "v1    0\n",
       "v2    0\n",
       "dtype: int64"
      ]
     },
     "execution_count": 2,
     "metadata": {},
     "output_type": "execute_result"
    }
   ],
   "source": [
    "df.isna().sum()"
   ]
  },
  {
   "cell_type": "markdown",
   "id": "a227597c",
   "metadata": {},
   "source": [
    "Bene, non ci sono valori mancanti"
   ]
  },
  {
   "cell_type": "markdown",
   "id": "61013a6a",
   "metadata": {},
   "source": [
    "Avendo a che fare con il testo, devo creare la bag of words. Posso usare sklearn per farlo. Ma prima devo dividere in train e test."
   ]
  },
  {
   "cell_type": "code",
   "execution_count": 3,
   "id": "1136791d",
   "metadata": {},
   "outputs": [],
   "source": [
    "from sklearn.model_selection import train_test_split\n",
    "RANDOM_SEED = 176\n",
    "X = df[\"v2\"].values\n",
    "y = df[\"v1\"].values\n",
    "\n",
    "X_train, X_test, y_train, y_test = train_test_split(X,y,test_size=0.3,random_state=RANDOM_SEED)\n"
   ]
  },
  {
   "cell_type": "markdown",
   "id": "bb6015c0",
   "metadata": {},
   "source": [
    "Creo un dizionario di 2000 parole al massimo (valore troppo alto o troppo basso? Bho, vedi soluzione dopo)"
   ]
  },
  {
   "cell_type": "code",
   "execution_count": 4,
   "id": "b06ccf3b",
   "metadata": {},
   "outputs": [],
   "source": [
    "from sklearn.feature_extraction.text import CountVectorizer\n",
    "count_vectorizer = CountVectorizer(stop_words=\"english\",\n",
    "                                    encoding=\"latin_1\",\n",
    "                                    max_features=2000\n",
    "                                  )\n",
    "X_train = count_vectorizer.fit_transform(X_train)\n",
    "X_test = count_vectorizer.transform(X_test)"
   ]
  },
  {
   "cell_type": "code",
   "execution_count": 5,
   "id": "486d5c18",
   "metadata": {},
   "outputs": [
    {
     "name": "stdout",
     "output_type": "stream",
     "text": [
      "(3900, 2000)\n",
      "(1672, 2000)\n"
     ]
    }
   ],
   "source": [
    "#Per verifica\n",
    "print(X_train.shape)\n",
    "print(X_test.shape)"
   ]
  },
  {
   "cell_type": "markdown",
   "id": "627d4e7b",
   "metadata": {},
   "source": [
    "## Creazione modello\n",
    "Avendo a che fare con il testo, si può provare classificatore bayesiano, di tipo Bernoulli o Multinomial/Complement."
   ]
  },
  {
   "cell_type": "code",
   "execution_count": 8,
   "id": "c87c045c",
   "metadata": {},
   "outputs": [],
   "source": [
    "#serve dopo\n",
    "from sklearn.metrics import classification_report"
   ]
  },
  {
   "cell_type": "code",
   "execution_count": 9,
   "id": "b9df4cdc",
   "metadata": {},
   "outputs": [
    {
     "name": "stdout",
     "output_type": "stream",
     "text": [
      "              precision    recall  f1-score   support\n",
      "\n",
      "         ham       0.98      1.00      0.99      1429\n",
      "        spam       1.00      0.86      0.92       243\n",
      "\n",
      "    accuracy                           0.98      1672\n",
      "   macro avg       0.99      0.93      0.96      1672\n",
      "weighted avg       0.98      0.98      0.98      1672\n",
      "\n"
     ]
    }
   ],
   "source": [
    "#Bernoulli\n",
    "from sklearn.naive_bayes import BernoulliNB\n",
    "\n",
    "bnb = BernoulliNB()\n",
    "bnb.fit(X_train,y_train)\n",
    "\n",
    "#In questo caso trattiamo ogni feature della bag of words come \n",
    "#\"parola presente? Sì/No\"\n",
    "\n",
    "y_pred_bernoulli=bnb.predict(X_test)\n",
    "print(classification_report(y_test,y_pred_bernoulli))"
   ]
  },
  {
   "cell_type": "code",
   "execution_count": 23,
   "id": "84afd350",
   "metadata": {},
   "outputs": [
    {
     "name": "stdout",
     "output_type": "stream",
     "text": [
      "              precision    recall  f1-score   support\n",
      "\n",
      "         ham       0.99      0.99      0.99      1429\n",
      "        spam       0.95      0.94      0.94       243\n",
      "\n",
      "    accuracy                           0.98      1672\n",
      "   macro avg       0.97      0.96      0.97      1672\n",
      "weighted avg       0.98      0.98      0.98      1672\n",
      "\n"
     ]
    }
   ],
   "source": [
    "#multinomial\n",
    "from sklearn.naive_bayes import MultinomialNB\n",
    "\n",
    "mnb = MultinomialNB() #default laplace smoothing\n",
    "mnb.fit(X_train,y_train)\n",
    "\n",
    "#In questo caso trattiamo ogni feature della bag of words come \n",
    "#conteggio delle occorrenze di ogni parola\n",
    "\n",
    "y_pred_multinomial=mnb.predict(X_test)\n",
    "print(classification_report(y_test,y_pred_multinomial))"
   ]
  },
  {
   "cell_type": "markdown",
   "id": "44c8d628",
   "metadata": {},
   "source": [
    "L'accuracy è la stessa, però migliora l'f1-score (perchè migliora la recall, anche se la precision un po' preggiora). \n",
    "Qui contare le occorrenze porta ad un miglioramento rispetto al caso di solo \"presente/assente\""
   ]
  },
  {
   "cell_type": "markdown",
   "id": "d477590e",
   "metadata": {},
   "source": [
    "Per vedere se il modello Complement naive bayes può essere utile, vediamo se il dataset è sbilanciato"
   ]
  },
  {
   "cell_type": "code",
   "execution_count": 22,
   "id": "1ed51efd",
   "metadata": {},
   "outputs": [
    {
     "name": "stdout",
     "output_type": "stream",
     "text": [
      "v1\n",
      "ham     4825\n",
      "spam     747\n",
      "Name: count, dtype: int64\n",
      "Classe positiva sono il 13.41% dei valori totali\n"
     ]
    }
   ],
   "source": [
    "class_details=df[\"v1\"].value_counts()\n",
    "print(class_details)\n",
    "\n",
    "print(f\"Classe positiva sono il {class_details[1]/class_details.sum()*100:.2f}% dei valori totali\")"
   ]
  },
  {
   "cell_type": "markdown",
   "id": "7fc74b90",
   "metadata": {},
   "source": [
    "In effetti il dataset è sbilanciato verso la classe negativa (\"ham\")."
   ]
  },
  {
   "cell_type": "code",
   "execution_count": 24,
   "id": "401c525e",
   "metadata": {},
   "outputs": [
    {
     "name": "stdout",
     "output_type": "stream",
     "text": [
      "              precision    recall  f1-score   support\n",
      "\n",
      "         ham       0.99      0.96      0.98      1429\n",
      "        spam       0.80      0.96      0.87       243\n",
      "\n",
      "    accuracy                           0.96      1672\n",
      "   macro avg       0.90      0.96      0.92      1672\n",
      "weighted avg       0.96      0.96      0.96      1672\n",
      "\n"
     ]
    }
   ],
   "source": [
    "#Complement\n",
    "from sklearn.naive_bayes import ComplementNB\n",
    "\n",
    "cnb = ComplementNB()\n",
    "cnb.fit(X_train,y_train)\n",
    "\n",
    "#stesso significato del caso multinomial, \n",
    "#ma tengo conto dello sbilanciamento\n",
    "\n",
    "y_pred_complement = cnb.predict(X_test)\n",
    "print(classification_report(y_test,y_pred_complement))\n"
   ]
  },
  {
   "cell_type": "markdown",
   "id": "87c1527a",
   "metadata": {},
   "source": [
    "Secondo me il modello migliore è l'ultimo perchè ha recall (sensibilità) più alta, così becco più facilmente gli spam (o dovrei privilegiare la specificità? Bho).\n",
    "\n",
    "EDIT: meglio tenere conto di entrambe le classi, quindi qui privilegio l'accuratezza (vince il multinomial)."
   ]
  },
  {
   "cell_type": "markdown",
   "id": "359d38f8",
   "metadata": {},
   "source": [
    "## Prova con e-mail\n",
    "\n",
    "Vedi soluzione"
   ]
  }
 ],
 "metadata": {
  "kernelspec": {
   "display_name": "Python 3 (ipykernel)",
   "language": "python",
   "name": "python3"
  },
  "language_info": {
   "codemirror_mode": {
    "name": "ipython",
    "version": 3
   },
   "file_extension": ".py",
   "mimetype": "text/x-python",
   "name": "python",
   "nbconvert_exporter": "python",
   "pygments_lexer": "ipython3",
   "version": "3.11.5"
  }
 },
 "nbformat": 4,
 "nbformat_minor": 5
}
