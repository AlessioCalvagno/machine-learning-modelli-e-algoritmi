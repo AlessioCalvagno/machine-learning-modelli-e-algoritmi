{
  "nbformat": 4,
  "nbformat_minor": 0,
  "metadata": {
    "colab": {
      "name": "gradient_descent.ipynb",
      "provenance": [],
      "collapsed_sections": [],
      "authorship_tag": "ABX9TyPDA70UR75usBc6bs/Axh63",
      "include_colab_link": true
    },
    "kernelspec": {
      "name": "python3",
      "display_name": "Python 3"
    },
    "language_info": {
      "name": "python"
    }
  },
  "cells": [
    {
      "cell_type": "markdown",
      "metadata": {
        "id": "view-in-github",
        "colab_type": "text"
      },
      "source": [
        "<a href=\"https://colab.research.google.com/github/ProfAI/machine-learning-modelli-e-algoritmi/blob/main/1%20-%20L'algoritmo%20Gradient%20Descent/gradient_descent.ipynb\" target=\"_parent\"><img src=\"https://colab.research.google.com/assets/colab-badge.svg\" alt=\"Open In Colab\"/></a>"
      ]
    },
    {
      "cell_type": "markdown",
      "source": [
        "# L'algoritmo Gradient Descent"
      ],
      "metadata": {
        "id": "y6KEK5uz2_Lo"
      }
    },
    {
      "cell_type": "code",
      "source": [
        "import numpy as np\n",
        "from sklearn.model_selection import train_test_split\n",
        "import matplotlib.pyplot as plt\n",
        "import seaborn as sns"
      ],
      "metadata": {
        "id": "KJrmXxu93r-B"
      },
      "execution_count": null,
      "outputs": []
    },
    {
      "cell_type": "code",
      "source": [
        "plt.rcParams[\"figure.figsize\"] = (16,10)\n",
        "#sns.set_theme()"
      ],
      "metadata": {
        "id": "gWCPKz3z3wbP"
      },
      "execution_count": null,
      "outputs": []
    },
    {
      "cell_type": "code",
      "source": [
        "RANDOM_SEED = 0"
      ],
      "metadata": {
        "id": "rH4Hw8az3i8B"
      },
      "execution_count": null,
      "outputs": []
    },
    {
      "cell_type": "markdown",
      "source": [
        "## Regressione"
      ],
      "metadata": {
        "id": "JCTJXaGg3LG6"
      }
    },
    {
      "cell_type": "code",
      "execution_count": null,
      "metadata": {
        "id": "SajShfaS2yAi"
      },
      "outputs": [],
      "source": [
        "from sklearn.datasets import make_regression\n",
        "from sklearn.linear_model import SGDRegressor\n",
        "from sklearn.metrics import mean_squared_error, r2_score"
      ]
    },
    {
      "cell_type": "code",
      "source": [
        "X, y = make_regression(n_samples=100, n_features=50, bias=5.0, noise=20.0,random_state=RANDOM_SEED)\n",
        "#plt.scatter(X, y)"
      ],
      "metadata": {
        "id": "fNbt1geg2-mf"
      },
      "execution_count": null,
      "outputs": []
    },
    {
      "cell_type": "code",
      "source": [
        "X_train, X_test, y_train, y_test = train_test_split(X, y, test_size=.3, random_state=RANDOM_SEED)"
      ],
      "metadata": {
        "id": "zOyWZFI848dC"
      },
      "execution_count": null,
      "outputs": []
    },
    {
      "cell_type": "code",
      "source": [
        "model = SGDRegressor(max_iter=1000, \n",
        "                     penalty=\"elasticnet\", \n",
        "                     alpha=0.01, \n",
        "                     l1_ratio=0.9, \n",
        "                     learning_rate=\"adaptive\",\n",
        "                     #eta0=0.001 \n",
        "                     )\n",
        "\n",
        "model.fit(X_train, y_train)"
      ],
      "metadata": {
        "colab": {
          "base_uri": "https://localhost:8080/"
        },
        "id": "BhF9sv-t4t7y",
        "outputId": "d97e9eb3-0d7b-4d7a-90a6-99541bd79181"
      },
      "execution_count": null,
      "outputs": [
        {
          "output_type": "execute_result",
          "data": {
            "text/plain": [
              "SGDRegressor(alpha=0.01, l1_ratio=0.9, learning_rate='adaptive',\n",
              "             penalty='elasticnet')"
            ]
          },
          "metadata": {},
          "execution_count": 202
        }
      ]
    },
    {
      "cell_type": "code",
      "source": [
        "def evaluate(model, data):\n",
        "    x, y = data\n",
        "    y_pred = model.predict(x)\n",
        "    print(f\"MSE = {mean_squared_error(y, y_pred)}\")\n",
        "    print(f\"R2 = {r2_score(y, y_pred)}\")"
      ],
      "metadata": {
        "id": "rhtxTCvb5jox"
      },
      "execution_count": null,
      "outputs": []
    },
    {
      "cell_type": "code",
      "source": [
        "evaluate(model, (X_train, y_train))"
      ],
      "metadata": {
        "colab": {
          "base_uri": "https://localhost:8080/"
        },
        "id": "791ZMI_h5O_p",
        "outputId": "822e4e8e-edae-43d6-83f9-b5df045c3e69"
      },
      "execution_count": null,
      "outputs": [
        {
          "output_type": "stream",
          "name": "stdout",
          "text": [
            "MSE = 49.16965214187807\n",
            "R2 = 0.9976109433229705\n"
          ]
        }
      ]
    },
    {
      "cell_type": "code",
      "source": [
        "evaluate(model, (X_test, y_test))"
      ],
      "metadata": {
        "colab": {
          "base_uri": "https://localhost:8080/"
        },
        "id": "XpbMH6Aw5tFy",
        "outputId": "3a92fb39-5878-4200-83e5-50d314913c50"
      },
      "execution_count": null,
      "outputs": [
        {
          "output_type": "stream",
          "name": "stdout",
          "text": [
            "MSE = 657.2193241144546\n",
            "R2 = 0.9563281804500007\n"
          ]
        }
      ]
    },
    {
      "cell_type": "markdown",
      "source": [
        "## Classificazione"
      ],
      "metadata": {
        "id": "m8FCYFJv3M1L"
      }
    },
    {
      "cell_type": "code",
      "source": [
        "from sklearn.datasets import make_classification\n",
        "from sklearn.linear_model import SGDClassifier\n",
        "from sklearn.metrics import accuracy_score, log_loss"
      ],
      "metadata": {
        "id": "mm6ifSBY3N4o"
      },
      "execution_count": null,
      "outputs": []
    },
    {
      "cell_type": "code",
      "source": [
        "X, y = make_classification(n_samples=100, n_features=30, n_informative=30, n_redundant=0, n_repeated=0, n_classes=2, random_state=RANDOM_SEED)"
      ],
      "metadata": {
        "id": "qtS5SMnr3Wv0"
      },
      "execution_count": null,
      "outputs": []
    },
    {
      "cell_type": "code",
      "source": [
        "def evaluate(model, data):\n",
        "    x, y = data\n",
        "    y_pred = model.predict(x)\n",
        "    print(f\"ACCURACY = {accuracy_score(y, y_pred)}\")\n",
        "    print(f\"LOG LOSS = {log_loss(y, y_pred)}\")"
      ],
      "metadata": {
        "id": "wAPwd2eb6A3J"
      },
      "execution_count": null,
      "outputs": []
    },
    {
      "cell_type": "code",
      "source": [
        "X_train, X_test, y_train, y_test = train_test_split(X, y, test_size=.3, random_state=RANDOM_SEED)"
      ],
      "metadata": {
        "id": "DS3znXdD8ik9"
      },
      "execution_count": null,
      "outputs": []
    },
    {
      "cell_type": "code",
      "source": [
        "model = SGDClassifier(max_iter=1000, \n",
        "                     penalty=\"elasticnet\", \n",
        "                     alpha=0.1, \n",
        "                     l1_ratio=0.9, \n",
        "                     learning_rate=\"adaptive\",\n",
        "                     eta0=0.01,\n",
        "                     random_state=RANDOM_SEED \n",
        "                     )\n",
        "\n",
        "model.fit(X_train, y_train)"
      ],
      "metadata": {
        "colab": {
          "base_uri": "https://localhost:8080/"
        },
        "id": "gyLerItb6U1O",
        "outputId": "fbab1779-7032-4788-a2fe-0859fd68416c"
      },
      "execution_count": null,
      "outputs": [
        {
          "output_type": "execute_result",
          "data": {
            "text/plain": [
              "SGDClassifier(alpha=0.1, eta0=0.01, l1_ratio=0.9, learning_rate='adaptive',\n",
              "              penalty='elasticnet', random_state=0)"
            ]
          },
          "metadata": {},
          "execution_count": 335
        }
      ]
    },
    {
      "cell_type": "code",
      "source": [
        "model = SGDClassifier(random_state=RANDOM_SEED)\n",
        "model.fit(X_train, y_train)"
      ],
      "metadata": {
        "colab": {
          "base_uri": "https://localhost:8080/"
        },
        "id": "Pzjf5rDfEChF",
        "outputId": "67e8bd81-7f0a-4697-c28e-33987d82aeb7"
      },
      "execution_count": null,
      "outputs": [
        {
          "output_type": "execute_result",
          "data": {
            "text/plain": [
              "SGDClassifier(random_state=0)"
            ]
          },
          "metadata": {},
          "execution_count": 338
        }
      ]
    },
    {
      "cell_type": "code",
      "source": [
        "evaluate(model, (X_train, y_train))"
      ],
      "metadata": {
        "colab": {
          "base_uri": "https://localhost:8080/"
        },
        "id": "s9ZR7Htx8gIw",
        "outputId": "1ccfa604-513c-430a-9ad7-0a832cf7ddea"
      },
      "execution_count": null,
      "outputs": [
        {
          "output_type": "stream",
          "name": "stdout",
          "text": [
            "ACCURACY = 0.8857142857142857\n",
            "LOG LOSS = 3.947334422128661\n"
          ]
        }
      ]
    },
    {
      "cell_type": "code",
      "source": [
        "evaluate(model, (X_test, y_test))"
      ],
      "metadata": {
        "colab": {
          "base_uri": "https://localhost:8080/"
        },
        "id": "qkHFwzkR8l5d",
        "outputId": "da8dd5dd-c90a-4a9e-866f-a8ea377294eb"
      },
      "execution_count": null,
      "outputs": [
        {
          "output_type": "stream",
          "name": "stdout",
          "text": [
            "ACCURACY = 0.7666666666666667\n",
            "LOG LOSS = 8.059181091717525\n"
          ]
        }
      ]
    }
  ]
}