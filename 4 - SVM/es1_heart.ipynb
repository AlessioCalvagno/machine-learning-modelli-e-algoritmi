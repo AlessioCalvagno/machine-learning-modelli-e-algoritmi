{
 "cells": [
  {
   "cell_type": "markdown",
   "id": "7dae2a39",
   "metadata": {},
   "source": [
    "# Previsione di infarto"
   ]
  },
  {
   "cell_type": "markdown",
   "id": "62be3c62",
   "metadata": {},
   "source": [
    "Per questa esercitazione dovrai utilizzare un dataset contenente diverse informazioni ed esami a pazienti per prevedere chi di loro è a rischio infarto. Quale metrica andrebbe ottimizzata in questo caso? Realizza un primo modello baseline e poi uno utilizzando le SVM."
   ]
  },
  {
   "cell_type": "markdown",
   "id": "236e17a8",
   "metadata": {},
   "source": [
    "Puoi scaricare il dataset [da qui](https://www.kaggle.com/datasets/rashikrahmanpritom/heart-attack-analysis-prediction-dataset), di seguito le variabili che contiene:\n",
    "\n",
    " - **age**: Età del paziente\n",
    "\n",
    " - **sex**: Sesso del paziente\n",
    "\n",
    " - **cp**: Tipo di dolore toracico, 0 = Angina tipica, 1 = Angina atipica, 2 = Dolore non anginoso, 3 = Asintomatico\n",
    "\n",
    " - **trtbps**: Pressione arteriosa a riposo (in mm Hg)\n",
    "\n",
    " - **col**: Colesterolo in mg/dl rilevato tramite il sensore BMI\n",
    "\n",
    " - **fbs**: (glicemia a digiuno > 120 mg/dl), 1 = vero, 0 = falso\n",
    "\n",
    " - **restecg**: Risultati elettrocardiografici a riposo, 0 = normale, 1 = anormalità dell'onda ST-T, 2 = ipertrofia ventricolare sinistra\n",
    "\n",
    " - **thalachh**: Frequenza cardiaca massima raggiunta\n",
    "\n",
    " - **oldpeak**: Picco precedente\n",
    "\n",
    " - **slp**: Pendenza\n",
    "\n",
    " - **caa**: Numero di vasi principali\n",
    "\n",
    " - **thall**: Risultato dello Stress Test al Tallio ~ (0,3)\n",
    "\n",
    " - **exng**: Angina indotta dall'esercizio ~ 1 = Sì, 0 = No\n",
    "\n",
    " - **output**: Variabile target"
   ]
  },
  {
   "cell_type": "markdown",
   "id": "b97e2767",
   "metadata": {},
   "source": [
    "Import dei moduli principali (man mano se ne aggiungono altri)"
   ]
  },
  {
   "cell_type": "code",
   "execution_count": 1,
   "id": "9f3e9948",
   "metadata": {},
   "outputs": [],
   "source": [
    "import numpy as np\n",
    "import pandas as pd\n",
    "import matplotlib.pyplot as plt\n",
    "import seaborn as sns"
   ]
  },
  {
   "cell_type": "markdown",
   "id": "1436b7a0",
   "metadata": {},
   "source": [
    "Carico il dataset"
   ]
  },
  {
   "cell_type": "code",
   "execution_count": 2,
   "id": "1251e4f5",
   "metadata": {},
   "outputs": [
    {
     "name": "stdout",
     "output_type": "stream",
     "text": [
      "(303, 14)\n"
     ]
    },
    {
     "data": {
      "text/html": [
       "<div>\n",
       "<style scoped>\n",
       "    .dataframe tbody tr th:only-of-type {\n",
       "        vertical-align: middle;\n",
       "    }\n",
       "\n",
       "    .dataframe tbody tr th {\n",
       "        vertical-align: top;\n",
       "    }\n",
       "\n",
       "    .dataframe thead th {\n",
       "        text-align: right;\n",
       "    }\n",
       "</style>\n",
       "<table border=\"1\" class=\"dataframe\">\n",
       "  <thead>\n",
       "    <tr style=\"text-align: right;\">\n",
       "      <th></th>\n",
       "      <th>age</th>\n",
       "      <th>sex</th>\n",
       "      <th>cp</th>\n",
       "      <th>trtbps</th>\n",
       "      <th>chol</th>\n",
       "      <th>fbs</th>\n",
       "      <th>restecg</th>\n",
       "      <th>thalachh</th>\n",
       "      <th>exng</th>\n",
       "      <th>oldpeak</th>\n",
       "      <th>slp</th>\n",
       "      <th>caa</th>\n",
       "      <th>thall</th>\n",
       "      <th>output</th>\n",
       "    </tr>\n",
       "  </thead>\n",
       "  <tbody>\n",
       "    <tr>\n",
       "      <th>0</th>\n",
       "      <td>63</td>\n",
       "      <td>1</td>\n",
       "      <td>3</td>\n",
       "      <td>145</td>\n",
       "      <td>233</td>\n",
       "      <td>1</td>\n",
       "      <td>0</td>\n",
       "      <td>150</td>\n",
       "      <td>0</td>\n",
       "      <td>2.3</td>\n",
       "      <td>0</td>\n",
       "      <td>0</td>\n",
       "      <td>1</td>\n",
       "      <td>1</td>\n",
       "    </tr>\n",
       "    <tr>\n",
       "      <th>1</th>\n",
       "      <td>37</td>\n",
       "      <td>1</td>\n",
       "      <td>2</td>\n",
       "      <td>130</td>\n",
       "      <td>250</td>\n",
       "      <td>0</td>\n",
       "      <td>1</td>\n",
       "      <td>187</td>\n",
       "      <td>0</td>\n",
       "      <td>3.5</td>\n",
       "      <td>0</td>\n",
       "      <td>0</td>\n",
       "      <td>2</td>\n",
       "      <td>1</td>\n",
       "    </tr>\n",
       "    <tr>\n",
       "      <th>2</th>\n",
       "      <td>41</td>\n",
       "      <td>0</td>\n",
       "      <td>1</td>\n",
       "      <td>130</td>\n",
       "      <td>204</td>\n",
       "      <td>0</td>\n",
       "      <td>0</td>\n",
       "      <td>172</td>\n",
       "      <td>0</td>\n",
       "      <td>1.4</td>\n",
       "      <td>2</td>\n",
       "      <td>0</td>\n",
       "      <td>2</td>\n",
       "      <td>1</td>\n",
       "    </tr>\n",
       "    <tr>\n",
       "      <th>3</th>\n",
       "      <td>56</td>\n",
       "      <td>1</td>\n",
       "      <td>1</td>\n",
       "      <td>120</td>\n",
       "      <td>236</td>\n",
       "      <td>0</td>\n",
       "      <td>1</td>\n",
       "      <td>178</td>\n",
       "      <td>0</td>\n",
       "      <td>0.8</td>\n",
       "      <td>2</td>\n",
       "      <td>0</td>\n",
       "      <td>2</td>\n",
       "      <td>1</td>\n",
       "    </tr>\n",
       "    <tr>\n",
       "      <th>4</th>\n",
       "      <td>57</td>\n",
       "      <td>0</td>\n",
       "      <td>0</td>\n",
       "      <td>120</td>\n",
       "      <td>354</td>\n",
       "      <td>0</td>\n",
       "      <td>1</td>\n",
       "      <td>163</td>\n",
       "      <td>1</td>\n",
       "      <td>0.6</td>\n",
       "      <td>2</td>\n",
       "      <td>0</td>\n",
       "      <td>2</td>\n",
       "      <td>1</td>\n",
       "    </tr>\n",
       "  </tbody>\n",
       "</table>\n",
       "</div>"
      ],
      "text/plain": [
       "   age  sex  cp  trtbps  chol  fbs  restecg  thalachh  exng  oldpeak  slp  \\\n",
       "0   63    1   3     145   233    1        0       150     0      2.3    0   \n",
       "1   37    1   2     130   250    0        1       187     0      3.5    0   \n",
       "2   41    0   1     130   204    0        0       172     0      1.4    2   \n",
       "3   56    1   1     120   236    0        1       178     0      0.8    2   \n",
       "4   57    0   0     120   354    0        1       163     1      0.6    2   \n",
       "\n",
       "   caa  thall  output  \n",
       "0    0      1       1  \n",
       "1    0      2       1  \n",
       "2    0      2       1  \n",
       "3    0      2       1  \n",
       "4    0      2       1  "
      ]
     },
     "execution_count": 2,
     "metadata": {},
     "output_type": "execute_result"
    }
   ],
   "source": [
    "data = pd.read_csv(\"../datasets/heart.csv\")\n",
    "print(data.shape)\n",
    "data.head()"
   ]
  },
  {
   "cell_type": "markdown",
   "id": "d8e7da6a",
   "metadata": {},
   "source": [
    "Bisognerebbe fare l'esplorazione dei dati, sia univariata che multivariata, anche per fare feature selection, ma essendo un esercizio e basta la skippo e uso tutte le variabili.\n",
    "\n",
    "L'unica cosa da vedere comunque è se ci sono valori mancanti e se bisogna fare qualche encoding,"
   ]
  },
  {
   "cell_type": "code",
   "execution_count": 3,
   "id": "608106be",
   "metadata": {},
   "outputs": [
    {
     "data": {
      "text/plain": [
       "age         0\n",
       "sex         0\n",
       "cp          0\n",
       "trtbps      0\n",
       "chol        0\n",
       "fbs         0\n",
       "restecg     0\n",
       "thalachh    0\n",
       "exng        0\n",
       "oldpeak     0\n",
       "slp         0\n",
       "caa         0\n",
       "thall       0\n",
       "output      0\n",
       "dtype: int64"
      ]
     },
     "execution_count": 3,
     "metadata": {},
     "output_type": "execute_result"
    }
   ],
   "source": [
    "#valori mancanti\n",
    "data.isna().sum()"
   ]
  },
  {
   "cell_type": "markdown",
   "id": "1435f5e0",
   "metadata": {},
   "source": [
    "Ottimo, non ci sono valori mancanti."
   ]
  },
  {
   "cell_type": "markdown",
   "id": "b39d5a17",
   "metadata": {},
   "source": [
    "Vedo le info generiche sulle variabili (il tipo)"
   ]
  },
  {
   "cell_type": "code",
   "execution_count": 4,
   "id": "5a565197",
   "metadata": {},
   "outputs": [
    {
     "name": "stdout",
     "output_type": "stream",
     "text": [
      "<class 'pandas.core.frame.DataFrame'>\n",
      "RangeIndex: 303 entries, 0 to 302\n",
      "Data columns (total 14 columns):\n",
      " #   Column    Non-Null Count  Dtype  \n",
      "---  ------    --------------  -----  \n",
      " 0   age       303 non-null    int64  \n",
      " 1   sex       303 non-null    int64  \n",
      " 2   cp        303 non-null    int64  \n",
      " 3   trtbps    303 non-null    int64  \n",
      " 4   chol      303 non-null    int64  \n",
      " 5   fbs       303 non-null    int64  \n",
      " 6   restecg   303 non-null    int64  \n",
      " 7   thalachh  303 non-null    int64  \n",
      " 8   exng      303 non-null    int64  \n",
      " 9   oldpeak   303 non-null    float64\n",
      " 10  slp       303 non-null    int64  \n",
      " 11  caa       303 non-null    int64  \n",
      " 12  thall     303 non-null    int64  \n",
      " 13  output    303 non-null    int64  \n",
      "dtypes: float64(1), int64(13)\n",
      "memory usage: 33.3 KB\n"
     ]
    }
   ],
   "source": [
    "data.info()"
   ]
  },
  {
   "cell_type": "markdown",
   "id": "e063eec6",
   "metadata": {},
   "source": [
    "L'unica analisi esplorativa che qui faccio è sulla feature target, per vedere se il problema è bilanciato o meno."
   ]
  },
  {
   "cell_type": "code",
   "execution_count": 5,
   "id": "587fe758",
   "metadata": {},
   "outputs": [
    {
     "data": {
      "image/png": "[encoded data removed]",
      "text/plain": [
       "<Figure size 640x480 with 1 Axes>"
      ]
     },
     "metadata": {},
     "output_type": "display_data"
    }
   ],
   "source": [
    "from matplotlib.ticker import PercentFormatter\n",
    "\n",
    "relative_frequency = data[\"output\"].value_counts(normalize = True)*100\n",
    "ax=relative_frequency.plot(kind=\"bar\",\n",
    "                           title=\"Target frequency distribution\",\n",
    "                    xticks=[0,1], xlabel=\"Class\", ylabel='Frequency (%)',\n",
    "                          rot=0)\n",
    "pf = PercentFormatter(xmax=100,decimals=2)\n",
    "ax.yaxis.set_major_formatter(pf)\n",
    "ax.bar_label(ax.containers[0], fmt='%.2f%%')\n",
    "plt.ylim((0,100))\n",
    "plt.show()"
   ]
  },
  {
   "cell_type": "markdown",
   "id": "2aac4a45",
   "metadata": {},
   "source": [
    "Le classi sono abbastanza bilanciate."
   ]
  },
  {
   "cell_type": "markdown",
   "id": "70c50de7",
   "metadata": {},
   "source": [
    "Vedendo anche su kaggle risulta che tutte le features sono già codificate in valori numerici.\n",
    "\n",
    "### Nota sulle variabili restecg e cp\n",
    "Queste due variabili sono qualitative, ma qui le interpreto come variabili ordinali piuttosto che nominali (categoriche).\n",
    "La scala ordinale sarebbe gravità bassa (0) -> gravità alta (3), quindi l'encoding fatto è da considerare un OrdinalEncoding e non un NominalEncoding. Di conseguenza queste variabili saranno trattate come numeriche discrete, quindi applicando uno StandardScaler (invece del OneHotEncoding usato per le variabili nominali).\n",
    "\n",
    "EDIT: La variabile cp in effetti non è odrinata, perchè i suoi livelli non hanno un significato di gravità, quindi per questa devo applicare il OneHotEncoding.\n",
    "### Nota sulla variabile sex\n",
    "La variabile sex è una variabile binaria (viva l'LGBT), ma è nominale, quindi per questa variabile devo applicare il OneHotEncoding.\n",
    "\n",
    "EDIT: No per questa variabile va applicato solo il nominal encoding, perchè ha solo due categorie possibili. Se applico OneHotEncoding ottengo due colonne opposte (quindi linearmente dipendenti) e questo fa casino con i classificatori."
   ]
  },
  {
   "cell_type": "markdown",
   "id": "f5aa5205",
   "metadata": {},
   "source": [
    " ## Train test split e preprocessing\n",
    " Avendo poco più di 300 osservazioni, è meglio mantenersi bassi con la proporzione di elementi nel test set (20%). "
   ]
  },
  {
   "cell_type": "code",
   "execution_count": 6,
   "id": "cfe59223",
   "metadata": {},
   "outputs": [],
   "source": [
    "from sklearn.model_selection import train_test_split\n",
    "from sklearn.preprocessing import OneHotEncoder\n",
    "from sklearn.preprocessing import StandardScaler\n",
    "from sklearn.compose import ColumnTransformer\n",
    "\n",
    "RANDOM_SEED = 176\n",
    "\n",
    "X = data.drop(\"output\",axis=1)\n",
    "y = data[\"output\"]\n",
    "\n",
    "X_train, X_test, y_train, y_test = train_test_split(X,y,test_size=.2,random_state=RANDOM_SEED) "
   ]
  },
  {
   "cell_type": "code",
   "execution_count": 7,
   "id": "979b2caf",
   "metadata": {},
   "outputs": [],
   "source": [
    "categorical_features=[\"cp\"]\n",
    "numeric_features=X.drop([\"sex\",\"exng\",\"fbs\"],axis=1).columns.tolist()\n",
    "ct = ColumnTransformer(\n",
    "[\n",
    "    (\"ohe\",OneHotEncoder(sparse_output=False, handle_unknown='ignore'),categorical_features),\n",
    "    (\"ss\",StandardScaler(),numeric_features)\n",
    "],remainder='passthrough'\n",
    ")\n",
    "\n",
    "X_train = ct.fit_transform(X_train)\n",
    "X_test = ct.transform(X_test)"
   ]
  },
  {
   "cell_type": "markdown",
   "id": "da22d17f",
   "metadata": {},
   "source": [
    "## Modelli\n",
    "Devo provare due modelli:\n",
    "regressione logistica (baseline) - apprende dai dati più rappresentativi\n",
    "SVM (prova vari kernel) - apprende dai dati più promiscui."
   ]
  },
  {
   "cell_type": "code",
   "execution_count": 8,
   "id": "2e1bbed9",
   "metadata": {},
   "outputs": [
    {
     "data": {
      "text/html": [
       "<style>#sk-container-id-1 {color: black;}#sk-container-id-1 pre{padding: 0;}#sk-container-id-1 div.sk-toggleable {background-color: white;}#sk-container-id-1 label.sk-toggleable__label {cursor: pointer;display: block;width: 100%;margin-bottom: 0;padding: 0.3em;box-sizing: border-box;text-align: center;}#sk-container-id-1 label.sk-toggleable__label-arrow:before {content: \"▸\";float: left;margin-right: 0.25em;color: #696969;}#sk-container-id-1 label.sk-toggleable__label-arrow:hover:before {color: black;}#sk-container-id-1 div.sk-estimator:hover label.sk-toggleable__label-arrow:before {color: black;}#sk-container-id-1 div.sk-toggleable__content {max-height: 0;max-width: 0;overflow: hidden;text-align: left;background-color: #f0f8ff;}#sk-container-id-1 div.sk-toggleable__content pre {margin: 0.2em;color: black;border-radius: 0.25em;background-color: #f0f8ff;}#sk-container-id-1 input.sk-toggleable__control:checked~div.sk-toggleable__content {max-height: 200px;max-width: 100%;overflow: auto;}#sk-container-id-1 input.sk-toggleable__control:checked~label.sk-toggleable__label-arrow:before {content: \"▾\";}#sk-container-id-1 div.sk-estimator input.sk-toggleable__control:checked~label.sk-toggleable__label {background-color: #d4ebff;}#sk-container-id-1 div.sk-label input.sk-toggleable__control:checked~label.sk-toggleable__label {background-color: #d4ebff;}#sk-container-id-1 input.sk-hidden--visually {border: 0;clip: rect(1px 1px 1px 1px);clip: rect(1px, 1px, 1px, 1px);height: 1px;margin: -1px;overflow: hidden;padding: 0;position: absolute;width: 1px;}#sk-container-id-1 div.sk-estimator {font-family: monospace;background-color: #f0f8ff;border: 1px dotted black;border-radius: 0.25em;box-sizing: border-box;margin-bottom: 0.5em;}#sk-container-id-1 div.sk-estimator:hover {background-color: #d4ebff;}#sk-container-id-1 div.sk-parallel-item::after {content: \"\";width: 100%;border-bottom: 1px solid gray;flex-grow: 1;}#sk-container-id-1 div.sk-label:hover label.sk-toggleable__label {background-color: #d4ebff;}#sk-container-id-1 div.sk-serial::before {content: \"\";position: absolute;border-left: 1px solid gray;box-sizing: border-box;top: 0;bottom: 0;left: 50%;z-index: 0;}#sk-container-id-1 div.sk-serial {display: flex;flex-direction: column;align-items: center;background-color: white;padding-right: 0.2em;padding-left: 0.2em;position: relative;}#sk-container-id-1 div.sk-item {position: relative;z-index: 1;}#sk-container-id-1 div.sk-parallel {display: flex;align-items: stretch;justify-content: center;background-color: white;position: relative;}#sk-container-id-1 div.sk-item::before, #sk-container-id-1 div.sk-parallel-item::before {content: \"\";position: absolute;border-left: 1px solid gray;box-sizing: border-box;top: 0;bottom: 0;left: 50%;z-index: -1;}#sk-container-id-1 div.sk-parallel-item {display: flex;flex-direction: column;z-index: 1;position: relative;background-color: white;}#sk-container-id-1 div.sk-parallel-item:first-child::after {align-self: flex-end;width: 50%;}#sk-container-id-1 div.sk-parallel-item:last-child::after {align-self: flex-start;width: 50%;}#sk-container-id-1 div.sk-parallel-item:only-child::after {width: 0;}#sk-container-id-1 div.sk-dashed-wrapped {border: 1px dashed gray;margin: 0 0.4em 0.5em 0.4em;box-sizing: border-box;padding-bottom: 0.4em;background-color: white;}#sk-container-id-1 div.sk-label label {font-family: monospace;font-weight: bold;display: inline-block;line-height: 1.2em;}#sk-container-id-1 div.sk-label-container {text-align: center;}#sk-container-id-1 div.sk-container {/* jupyter's `normalize.less` sets `[hidden] { display: none; }` but bootstrap.min.css set `[hidden] { display: none !important; }` so we also need the `!important` here to be able to override the default hidden behavior on the sphinx rendered scikit-learn.org. See: https://github.com/scikit-learn/scikit-learn/issues/21755 */display: inline-block !important;position: relative;}#sk-container-id-1 div.sk-text-repr-fallback {display: none;}</style><div id=\"sk-container-id-1\" class=\"sk-top-container\"><div class=\"sk-text-repr-fallback\"><pre>LogisticRegression(max_iter=1000, random_state=176)</pre><b>In a Jupyter environment, please rerun this cell to show the HTML representation or trust the notebook. <br />On GitHub, the HTML representation is unable to render, please try loading this page with nbviewer.org.</b></div><div class=\"sk-container\" hidden><div class=\"sk-item\"><div class=\"sk-estimator sk-toggleable\"><input class=\"sk-toggleable__control sk-hidden--visually\" id=\"sk-estimator-id-1\" type=\"checkbox\" checked><label for=\"sk-estimator-id-1\" class=\"sk-toggleable__label sk-toggleable__label-arrow\">LogisticRegression</label><div class=\"sk-toggleable__content\"><pre>LogisticRegression(max_iter=1000, random_state=176)</pre></div></div></div></div></div>"
      ],
      "text/plain": [
       "LogisticRegression(max_iter=1000, random_state=176)"
      ]
     },
     "execution_count": 8,
     "metadata": {},
     "output_type": "execute_result"
    }
   ],
   "source": [
    "from sklearn.linear_model import LogisticRegression\n",
    "\n",
    "lr = LogisticRegression(max_iter=1000, random_state=RANDOM_SEED)\n",
    "lr.fit(X_train, y_train)"
   ]
  },
  {
   "cell_type": "markdown",
   "id": "2987badc",
   "metadata": {},
   "source": [
    "Valutazione del modello sul test set"
   ]
  },
  {
   "cell_type": "code",
   "execution_count": 9,
   "id": "41a65dc1",
   "metadata": {},
   "outputs": [
    {
     "name": "stdout",
     "output_type": "stream",
     "text": [
      "              precision    recall  f1-score   support\n",
      "\n",
      "           0       0.86      0.92      0.89        26\n",
      "           1       0.94      0.89      0.91        35\n",
      "\n",
      "    accuracy                           0.90        61\n",
      "   macro avg       0.90      0.90      0.90        61\n",
      "weighted avg       0.90      0.90      0.90        61\n",
      "\n"
     ]
    }
   ],
   "source": [
    "from sklearn.metrics import classification_report\n",
    "#si dovrebbe ottimizzare la soglia di classificazione con la ROC. \n",
    "#Qui si omette in qunato esercizio (si usa la soglia di default di 0.5).\n",
    "y_pred_test_lr = lr.predict(X_test) \n",
    " \n",
    "\n",
    "print(classification_report(y_test,y_pred_test_lr))"
   ]
  },
  {
   "cell_type": "markdown",
   "id": "64829406",
   "metadata": {},
   "source": [
    "#### Commento sulle metriche\n",
    "L'obiettivo è di prevedere il rischio di infarto -> voglio evitare di farmi sfuggire positivi reali, quindi la metrica da ottimizzare è la sensibilità (recall). Anche che ci dovessero essere falsi positivi, non è un problema, questi saranno poi valutati con metodi più specifici."
   ]
  },
  {
   "cell_type": "markdown",
   "id": "0f9a891f",
   "metadata": {},
   "source": [
    "### Modello di regressione logistica (baseline)\n",
    "Ottengo una sensibilità del 96%, il che non è male. La precisione è del 68% e sarebbe meglio aumentarla un po' (quindi dovrebbe aumentare la specificità). \n",
    "Nel complesso l'accuratezza dell'80% è buona, ma si può fare meglio"
   ]
  },
  {
   "cell_type": "markdown",
   "id": "665ad176",
   "metadata": {},
   "source": [
    "Per il secondo modello SVM, provo con un kernel rbf (gaussiano)"
   ]
  },
  {
   "cell_type": "code",
   "execution_count": 10,
   "id": "5a8b4504",
   "metadata": {},
   "outputs": [
    {
     "name": "stdout",
     "output_type": "stream",
     "text": [
      "              precision    recall  f1-score   support\n",
      "\n",
      "           0       0.88      0.27      0.41        26\n",
      "           1       0.64      0.97      0.77        35\n",
      "\n",
      "    accuracy                           0.67        61\n",
      "   macro avg       0.76      0.62      0.59        61\n",
      "weighted avg       0.74      0.67      0.62        61\n",
      "\n"
     ]
    }
   ],
   "source": [
    "from sklearn.svm import SVC\n",
    "\n",
    "svm1 = SVC(kernel='rbf',gamma=1.0)\n",
    "svm1.fit(X_train,y_train)\n",
    "y_pred_test_svm1 = svm1.predict(X_test)\n",
    "\n",
    "print(classification_report(y_test,y_pred_test_svm1))\n"
   ]
  },
  {
   "cell_type": "markdown",
   "id": "c0d51730",
   "metadata": {},
   "source": [
    "### Parametri usati nell'svm\n",
    "Ho lasciato il valore di C di default (1.0), anche se si può pensare di aumentarlo per avere meno misclassificazioni.\n",
    "Il valore di gamma è 1 (che è elevato), per fare in modo che il decision boundary sia molto vicino ai support vectors (warning overfitting).\n"
   ]
  },
  {
   "cell_type": "markdown",
   "id": "99b5d790",
   "metadata": {},
   "source": [
    "#### Commenti sulle prestazioni dei svm1\n",
    "Con questi parametri si ottiene una situazione abbastanza sbilanciata, perchè ho una sensibilità (recall) molto buona del 100%, però ho un'accuratezza e una precisione troppo basse. La specificità (che è recall della classe 0, v. documentazione sklearn) è davvero troppo bassa. Questo significa che ho pochi veri negativi (e da qui l'accuratezza bassa). "
   ]
  },
  {
   "cell_type": "markdown",
   "id": "581725e8",
   "metadata": {},
   "source": [
    "Per completezza, verifico le prestazioni sullo stesso train set per vedere se ho overfitting o meno"
   ]
  },
  {
   "cell_type": "code",
   "execution_count": 11,
   "id": "86635d11",
   "metadata": {},
   "outputs": [
    {
     "name": "stdout",
     "output_type": "stream",
     "text": [
      "Train set - SVM1\n",
      "              precision    recall  f1-score   support\n",
      "\n",
      "           0       1.00      1.00      1.00       112\n",
      "           1       1.00      1.00      1.00       130\n",
      "\n",
      "    accuracy                           1.00       242\n",
      "   macro avg       1.00      1.00      1.00       242\n",
      "weighted avg       1.00      1.00      1.00       242\n",
      "\n"
     ]
    }
   ],
   "source": [
    "print(\"Train set - SVM1\")\n",
    "print(classification_report(y_train,svm1.predict(X_train)))"
   ]
  },
  {
   "cell_type": "markdown",
   "id": "a292a648",
   "metadata": {},
   "source": [
    "Ecco, infatti... Sul train set ho tutte le classificazioni corrette, quindi sì, sono in overfitting"
   ]
  },
  {
   "cell_type": "markdown",
   "id": "3adeec25",
   "metadata": {},
   "source": [
    "### Modello SVM2\n",
    "Uso un altro modello svm, sempre con kernel rbf, però qui uso un valore di gamma più basso. Mettendo gamma = 'auto', risulta gamma=1/N_features\n"
   ]
  },
  {
   "cell_type": "code",
   "execution_count": 12,
   "id": "2d577f4b",
   "metadata": {},
   "outputs": [
    {
     "name": "stdout",
     "output_type": "stream",
     "text": [
      "              precision    recall  f1-score   support\n",
      "\n",
      "           0       0.92      0.88      0.90        26\n",
      "           1       0.92      0.94      0.93        35\n",
      "\n",
      "    accuracy                           0.92        61\n",
      "   macro avg       0.92      0.91      0.92        61\n",
      "weighted avg       0.92      0.92      0.92        61\n",
      "\n"
     ]
    }
   ],
   "source": [
    "svm2 = SVC(kernel='rbf', gamma='auto')\n",
    "svm2.fit(X_train,y_train)\n",
    "y_pred_test_svm2 = svm2.predict(X_test)\n",
    "\n",
    "print(classification_report(y_test,y_pred_test_svm2))"
   ]
  },
  {
   "cell_type": "code",
   "execution_count": 13,
   "id": "2774a141",
   "metadata": {},
   "outputs": [
    {
     "name": "stdout",
     "output_type": "stream",
     "text": [
      "[[23  3]\n",
      " [ 2 33]]\n"
     ]
    }
   ],
   "source": [
    "from sklearn.metrics import confusion_matrix\n",
    "print(confusion_matrix(y_test,y_pred_test_svm2))"
   ]
  },
  {
   "cell_type": "markdown",
   "id": "dab4736a",
   "metadata": {},
   "source": [
    "Verifico overfitting"
   ]
  },
  {
   "cell_type": "code",
   "execution_count": 14,
   "id": "5f9bfafd",
   "metadata": {},
   "outputs": [
    {
     "name": "stdout",
     "output_type": "stream",
     "text": [
      "Train set - SVM2\n",
      "              precision    recall  f1-score   support\n",
      "\n",
      "           0       0.93      0.79      0.86       112\n",
      "           1       0.84      0.95      0.89       130\n",
      "\n",
      "    accuracy                           0.88       242\n",
      "   macro avg       0.88      0.87      0.87       242\n",
      "weighted avg       0.88      0.88      0.87       242\n",
      "\n"
     ]
    }
   ],
   "source": [
    "print(\"Train set - SVM2\")\n",
    "print(classification_report(y_train,svm2.predict(X_train)))"
   ]
  },
  {
   "cell_type": "markdown",
   "id": "cf1a101e",
   "metadata": {},
   "source": [
    "Non ho overfitting  perchè sul test set le prestazioni non scendono a picco (come prima).\n",
    "\n",
    "\n",
    "Sul test set ottengo sensibilità = 100%, quindi non ho falsi negativi, il che è l'obiettivo del modello. Di contro ho una specificità del 68% (e infatti ho 12 falsi positivi)"
   ]
  },
  {
   "cell_type": "code",
   "execution_count": 62,
   "id": "11f36ee3",
   "metadata": {},
   "outputs": [
    {
     "name": "stdout",
     "output_type": "stream",
     "text": [
      "              precision    recall  f1-score   support\n",
      "\n",
      "           0       0.85      0.88      0.87        26\n",
      "           1       0.91      0.89      0.90        35\n",
      "\n",
      "    accuracy                           0.89        61\n",
      "   macro avg       0.88      0.89      0.88        61\n",
      "weighted avg       0.89      0.89      0.89        61\n",
      "\n",
      "[[23  3]\n",
      " [ 4 31]]\n"
     ]
    }
   ],
   "source": [
    "svm3 = SVC(kernel='sigmoid', gamma='auto', coef0=1.2)\n",
    "svm3.fit(X_train,y_train)\n",
    "y_pred_test_svm3 = svm3.predict(X_test)\n",
    "\n",
    "print(classification_report(y_test,y_pred_test_svm3))\n",
    "print(confusion_matrix(y_test,y_pred_test_svm3))"
   ]
  },
  {
   "cell_type": "code",
   "execution_count": 39,
   "id": "abb5c7b1",
   "metadata": {},
   "outputs": [
    {
     "data": {
      "text/plain": [
       "0.0625"
      ]
     },
     "execution_count": 39,
     "metadata": {},
     "output_type": "execute_result"
    }
   ],
   "source": [
    "1/16"
   ]
  },
  {
   "cell_type": "code",
   "execution_count": 33,
   "id": "f56a0e0c",
   "metadata": {},
   "outputs": [
    {
     "data": {
      "text/plain": [
       "cp\n",
       "0    143\n",
       "2     87\n",
       "1     50\n",
       "3     23\n",
       "Name: count, dtype: int64"
      ]
     },
     "execution_count": 33,
     "metadata": {},
     "output_type": "execute_result"
    }
   ],
   "source": [
    "data[\"cp\"].value_counts()"
   ]
  },
  {
   "cell_type": "code",
   "execution_count": 34,
   "id": "29d94749",
   "metadata": {},
   "outputs": [
    {
     "data": {
      "text/plain": [
       "(303, 14)"
      ]
     },
     "execution_count": 34,
     "metadata": {},
     "output_type": "execute_result"
    }
   ],
   "source": [
    "data.shape"
   ]
  },
  {
   "cell_type": "markdown",
   "id": "0ff15aac",
   "metadata": {},
   "source": [
    "No, ho peggiorato le cose... Meglio restare al modello svm2."
   ]
  }
 ],
 "metadata": {
  "kernelspec": {
   "display_name": "Python 3 (ipykernel)",
   "language": "python",
   "name": "python3"
  },
  "language_info": {
   "codemirror_mode": {
    "name": "ipython",
    "version": 3
   },
   "file_extension": ".py",
   "mimetype": "text/x-python",
   "name": "python",
   "nbconvert_exporter": "python",
   "pygments_lexer": "ipython3",
   "version": "3.11.5"
  }
 },
 "nbformat": 4,
 "nbformat_minor": 5
}
