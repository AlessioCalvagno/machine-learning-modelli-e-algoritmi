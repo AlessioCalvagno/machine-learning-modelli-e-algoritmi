{
  "nbformat": 4,
  "nbformat_minor": 0,
  "metadata": {
    "colab": {
      "provenance": [],
      "authorship_tag": "ABX9TyP1zId7AW30Aj0xHRLGp7f+",
      "include_colab_link": true
    },
    "kernelspec": {
      "name": "python3",
      "display_name": "Python 3"
    },
    "language_info": {
      "name": "python"
    }
  },
  "cells": [
    {
      "cell_type": "markdown",
      "metadata": {
        "id": "view-in-github",
        "colab_type": "text"
      },
      "source": [
        "<a href=\"https://colab.research.google.com/github/ProfAI/machine-learning-modelli-e-algoritmi/blob/main/5%20-%20Reti%20Neurali/neuralnetworks.ipynb\" target=\"_parent\"><img src=\"https://colab.research.google.com/assets/colab-badge.svg\" alt=\"Open In Colab\"/></a>"
      ]
    },
    {
      "cell_type": "markdown",
      "source": [
        "## Reti Neurali - il Multilayer Perceptron"
      ],
      "metadata": {
        "id": "fhFfblYQFne3"
      }
    },
    {
      "cell_type": "markdown",
      "source": [
        "### Importiamo i moduli"
      ],
      "metadata": {
        "id": "ZfqGC7waFnC-"
      }
    },
    {
      "cell_type": "code",
      "execution_count": 17,
      "metadata": {
        "id": "0XGq9fpRA3Zl"
      },
      "outputs": [],
      "source": [
        "import numpy as np\n",
        "import matplotlib.pyplot as plt\n",
        "from sklearn.datasets import make_moons\n",
        "from sklearn.preprocessing import MinMaxScaler\n",
        "from sklearn.model_selection import train_test_split\n",
        "from sklearn.linear_model import LogisticRegression"
      ]
    },
    {
      "cell_type": "markdown",
      "source": [
        "### Definiamo le costanti"
      ],
      "metadata": {
        "id": "_APBSDXsFwk1"
      }
    },
    {
      "cell_type": "code",
      "source": [
        "RANDOM_SEED = 0"
      ],
      "metadata": {
        "id": "0xwEEVKVFPtr"
      },
      "execution_count": 18,
      "outputs": []
    },
    {
      "cell_type": "markdown",
      "source": [
        "### Definiamo le funzioni"
      ],
      "metadata": {
        "id": "_stqmsGqHG_p"
      }
    },
    {
      "cell_type": "code",
      "source": [
        "def plot_decision_boundary(model, data, sv=None):\n",
        "    \n",
        "    X, Y = data\n",
        "    h = .02 \n",
        "\n",
        "    x_min, x_max = X[:, 0].min()-.1, X[:, 0].max()+.1\n",
        "    y_min, y_max = X[:, 1].min()-.1, X[:, 1].max()+.1\n",
        "\n",
        "    xx, yy = np.meshgrid(np.arange(x_min, x_max, h),\n",
        "                         np.arange(y_min, y_max, h))\n",
        "\n",
        "    Z = model.predict(np.c_[xx.ravel(), yy.ravel()])\n",
        "\n",
        "    Z = Z.reshape(xx.shape)\n",
        "    plt.contourf(xx, yy, Z, cmap=plt.cm.Paired)\n",
        "\n",
        "    X_m = X[Y==1]\n",
        "    X_b = X[Y==0]\n",
        "    plt.scatter(X_b[:, 0], X_b[:, 1], c=\"green\",  edgecolor='white')\n",
        "    plt.scatter(X_m[:, 0], X_m[:, 1], c=\"red\",  edgecolor='white')"
      ],
      "metadata": {
        "id": "K1DnVCMdHI7J"
      },
      "execution_count": 19,
      "outputs": []
    },
    {
      "cell_type": "markdown",
      "source": [
        "### Generiamo i dati"
      ],
      "metadata": {
        "id": "qspIo0GxFypr"
      }
    },
    {
      "cell_type": "code",
      "source": [
        "X, y = make_moons(n_samples=100, shuffle=True, noise=0.25, random_state=RANDOM_SEED)\n",
        "plt.scatter(X[:,0], X[:,1], c=y)"
      ],
      "metadata": {
        "colab": {
          "base_uri": "https://localhost:8080/",
          "height": 283
        },
        "id": "23t9IIZ6FKsb",
        "outputId": "1cbd3dd4-1bf3-4c5e-f368-b04fbb96e32a"
      },
      "execution_count": 53,
      "outputs": [
        {
          "output_type": "execute_result",
          "data": {
            "text/plain": [
              "<matplotlib.collections.PathCollection at 0x7f2df71ade20>"
            ]
          },
          "metadata": {},
          "execution_count": 53
        },
        {
          "output_type": "display_data",
          "data": {
            "text/plain": [
              "<Figure size 432x288 with 1 Axes>"
            ],
            "image/png": "[encoded data removed]"
          },
          "metadata": {
            "needs_background": "light"
          }
        }
      ]
    },
    {
      "cell_type": "markdown",
      "source": [
        "### Processiamo i dati"
      ],
      "metadata": {
        "id": "6L6brcvJGIgl"
      }
    },
    {
      "cell_type": "code",
      "source": [
        "X_train, X_test, y_train, y_test = train_test_split(X, y, test_size=.2, random_state=RANDOM_SEED)"
      ],
      "metadata": {
        "id": "NPXxjtUkGPAZ"
      },
      "execution_count": 54,
      "outputs": []
    },
    {
      "cell_type": "code",
      "source": [
        "mms = MinMaxScaler()\n",
        "X_train = mms.fit_transform(X_train)\n",
        "X_test = mms.transform(X_test)"
      ],
      "metadata": {
        "id": "gM4H7amtF2et"
      },
      "execution_count": 55,
      "outputs": []
    },
    {
      "cell_type": "markdown",
      "source": [
        "### Regressione Logistica"
      ],
      "metadata": {
        "id": "Fm3-33i3GnzU"
      }
    },
    {
      "cell_type": "code",
      "source": [
        "lr = LogisticRegression()\n",
        "lr.fit(X_train, y_train)\n",
        "lr.score(X_test, y_test)"
      ],
      "metadata": {
        "colab": {
          "base_uri": "https://localhost:8080/"
        },
        "id": "nT-uqCPbGf-r",
        "outputId": "b88ae77b-4ad1-4528-b582-f4e7c410f024"
      },
      "execution_count": 56,
      "outputs": [
        {
          "output_type": "execute_result",
          "data": {
            "text/plain": [
              "0.85"
            ]
          },
          "metadata": {},
          "execution_count": 56
        }
      ]
    },
    {
      "cell_type": "code",
      "source": [
        "plot_decision_boundary(lr, (X_train, y_train))"
      ],
      "metadata": {
        "colab": {
          "base_uri": "https://localhost:8080/",
          "height": 265
        },
        "id": "QmaIfANVGxdU",
        "outputId": "35cf2f36-5488-46bc-defc-7c33b31a9dc3"
      },
      "execution_count": 57,
      "outputs": [
        {
          "output_type": "display_data",
          "data": {
            "text/plain": [
              "<Figure size 432x288 with 1 Axes>"
            ],
            "image/png": "[encoded data removed]"
          },
          "metadata": {
            "needs_background": "light"
          }
        }
      ]
    },
    {
      "cell_type": "markdown",
      "source": [
        "### Multilayer Perceptron"
      ],
      "metadata": {
        "id": "LYmuQmsLHwG8"
      }
    },
    {
      "cell_type": "code",
      "source": [
        "from sklearn.neural_network import MLPClassifier"
      ],
      "metadata": {
        "id": "vi4AodJEHnQk"
      },
      "execution_count": 58,
      "outputs": []
    },
    {
      "cell_type": "code",
      "source": [
        "mlp = MLPClassifier(hidden_layer_sizes=(100,100,100,), random_state=RANDOM_SEED)\n",
        "mlp.fit(X_train, y_train)\n",
        "mlp.score(X_test, y_test)"
      ],
      "metadata": {
        "colab": {
          "base_uri": "https://localhost:8080/"
        },
        "id": "F2v9qiERH3Z5",
        "outputId": "a57aa4e6-1add-4802-8b7a-c1bbe9fd3382"
      },
      "execution_count": 59,
      "outputs": [
        {
          "output_type": "stream",
          "name": "stderr",
          "text": [
            "/usr/local/lib/python3.8/dist-packages/sklearn/neural_network/_multilayer_perceptron.py:692: ConvergenceWarning: Stochastic Optimizer: Maximum iterations (200) reached and the optimization hasn't converged yet.\n",
            "  warnings.warn(\n"
          ]
        },
        {
          "output_type": "execute_result",
          "data": {
            "text/plain": [
              "0.9"
            ]
          },
          "metadata": {},
          "execution_count": 59
        }
      ]
    },
    {
      "cell_type": "code",
      "source": [
        "plot_decision_boundary(mlp, (X_train, y_train))"
      ],
      "metadata": {
        "colab": {
          "base_uri": "https://localhost:8080/",
          "height": 265
        },
        "id": "54b_nNBmIH-O",
        "outputId": "e5f5cb97-7dc9-4385-fb18-63e6e53b3299"
      },
      "execution_count": 60,
      "outputs": [
        {
          "output_type": "display_data",
          "data": {
            "text/plain": [
              "<Figure size 432x288 with 1 Axes>"
            ],
            "image/png": "[encoded data removed]"
          },
          "metadata": {
            "needs_background": "light"
          }
        }
      ]
    },
    {
      "cell_type": "code",
      "source": [
        "len(mlp.coefs_)"
      ],
      "metadata": {
        "id": "siyYWB3BJUkL",
        "outputId": "fca86dda-ae44-4e63-cab5-4c7526bc47ec",
        "colab": {
          "base_uri": "https://localhost:8080/"
        }
      },
      "execution_count": 42,
      "outputs": [
        {
          "output_type": "execute_result",
          "data": {
            "text/plain": [
              "4"
            ]
          },
          "metadata": {},
          "execution_count": 42
        }
      ]
    },
    {
      "cell_type": "code",
      "source": [
        "len(mlp.intercepts_)"
      ],
      "metadata": {
        "id": "O-Tv3SiXJgdh",
        "outputId": "8f07a872-ccd5-4168-c98a-e1bd23dcc23b",
        "colab": {
          "base_uri": "https://localhost:8080/"
        }
      },
      "execution_count": 45,
      "outputs": [
        {
          "output_type": "execute_result",
          "data": {
            "text/plain": [
              "4"
            ]
          },
          "metadata": {},
          "execution_count": 45
        }
      ]
    }
  ]
}