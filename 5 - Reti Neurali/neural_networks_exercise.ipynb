{
  "nbformat": 4,
  "nbformat_minor": 0,
  "metadata": {
    "colab": {
      "provenance": [],
      "include_colab_link": true
    },
    "kernelspec": {
      "name": "python3",
      "display_name": "Python 3"
    },
    "language_info": {
      "name": "python"
    }
  },
  "cells": [
    {
      "cell_type": "markdown",
      "metadata": {
        "id": "view-in-github",
        "colab_type": "text"
      },
      "source": [
        "<a href=\"https://colab.research.google.com/github/ProfAI/machine-learning-modelli-e-algoritmi/blob/main/5%20-%20Reti%20Neurali/neural_networks_exercise.ipynb\" target=\"_parent\"><img src=\"https://colab.research.google.com/assets/colab-badge.svg\" alt=\"Open In Colab\"/></a>"
      ]
    },
    {
      "cell_type": "markdown",
      "source": [
        "## Classificazione di cifre scritte a mano\n",
        "In questa esercitazione dovrai addestrare un modello di rete neurale artificiale in grado di riconoscere cifre scritte a mano. <br/>\n",
        "Puoi scaricare il dataset da utilizzare dall'[UCI Machine Learning Repository](https://archive.ics.uci.edu/ml/datasets/optical+recognition+of+handwritten+digits). I file sono [optdigits.tra](https://archive.ics.uci.edu/ml/machine-learning-databases/optdigits/optdigits.tra) per il train set e [optdigits.tes](https://archive.ics.uci.edu/ml/machine-learning-databases/optdigits/optdigits.tes) per il test set.\n",
        "Riesci a comprendere il formato di questi file? Ma certo! Dopo averlo fatto, utilizzali per addestrare un multilayer perceptron, questo modello era effettivamente la scelta migliore?"
      ],
      "metadata": {
        "id": "Cy9Vvgesx8Ax"
      }
    },
    {
      "cell_type": "markdown",
      "source": [
        "### Scarichiamo i dati"
      ],
      "metadata": {
        "id": "YIxD7_Y-57cK"
      }
    },
    {
      "cell_type": "code",
      "execution_count": 1,
      "metadata": {
        "id": "0XGq9fpRA3Zl",
        "outputId": "1df741f3-a3d2-4563-ce9a-9756fb95ff70",
        "colab": {
          "base_uri": "https://localhost:8080/"
        }
      },
      "outputs": [
        {
          "output_type": "stream",
          "name": "stdout",
          "text": [
            "--2023-01-13 15:41:05--  https://archive.ics.uci.edu/ml/machine-learning-databases/optdigits/optdigits.tra\n",
            "Resolving archive.ics.uci.edu (archive.ics.uci.edu)... 128.195.10.252\n",
            "Connecting to archive.ics.uci.edu (archive.ics.uci.edu)|128.195.10.252|:443... connected.\n",
            "HTTP request sent, awaiting response... 200 OK\n",
            "Length: 563639 (550K) [application/x-httpd-php]\n",
            "Saving to: ‘optdigits.tra’\n",
            "\n",
            "optdigits.tra       100%[===================>] 550.43K  1.57MB/s    in 0.3s    \n",
            "\n",
            "2023-01-13 15:41:06 (1.57 MB/s) - ‘optdigits.tra’ saved [563639/563639]\n",
            "\n",
            "--2023-01-13 15:41:06--  https://archive.ics.uci.edu/ml/machine-learning-databases/optdigits/optdigits.tes\n",
            "Resolving archive.ics.uci.edu (archive.ics.uci.edu)... 128.195.10.252\n",
            "Connecting to archive.ics.uci.edu (archive.ics.uci.edu)|128.195.10.252|:443... connected.\n",
            "HTTP request sent, awaiting response... 200 OK\n",
            "Length: 264712 (259K) [application/x-httpd-php]\n",
            "Saving to: ‘optdigits.tes’\n",
            "\n",
            "optdigits.tes       100%[===================>] 258.51K   940KB/s    in 0.3s    \n",
            "\n",
            "2023-01-13 15:41:06 (940 KB/s) - ‘optdigits.tes’ saved [264712/264712]\n",
            "\n"
          ]
        }
      ],
      "source": [
        "!wget https://archive.ics.uci.edu/ml/machine-learning-databases/optdigits/optdigits.tra\n",
        "!wget https://archive.ics.uci.edu/ml/machine-learning-databases/optdigits/optdigits.tes"
      ]
    },
    {
      "cell_type": "markdown",
      "source": [
        "### Importiamo i moduli"
      ],
      "metadata": {
        "id": "qHco4-yn53S0"
      }
    },
    {
      "cell_type": "code",
      "source": [
        "import matplotlib.pyplot as plt\n",
        "from sklearn.model_selection import train_test_split\n",
        "from sklearn.linear_model import LogisticRegression\n",
        "from sklearn.neural_network import MLPClassifier\n",
        "from sklearn.metrics import classification_report"
      ],
      "metadata": {
        "id": "6tcDn1z4ynb9"
      },
      "execution_count": 32,
      "outputs": []
    },
    {
      "cell_type": "markdown",
      "source": [
        "### Definiamo le funzioni"
      ],
      "metadata": {
        "id": "MdBMhG4D59a_"
      }
    },
    {
      "cell_type": "code",
      "source": [
        "RANDOM_SEED = 0"
      ],
      "metadata": {
        "id": "ijVN9t6G4Cln"
      },
      "execution_count": 18,
      "outputs": []
    },
    {
      "cell_type": "markdown",
      "source": [
        "### Carichiamo i dati"
      ],
      "metadata": {
        "id": "7l05dgSK5_PU"
      }
    },
    {
      "cell_type": "code",
      "source": [
        "from numpy import genfromtxt\n",
        "\n",
        "arr = genfromtxt('optdigits.tra', delimiter=',')\n",
        "arr.shape"
      ],
      "metadata": {
        "id": "B5tUeetY0adX",
        "outputId": "e16c0671-1c8e-43f2-bc1f-923befa85cae",
        "colab": {
          "base_uri": "https://localhost:8080/"
        }
      },
      "execution_count": 6,
      "outputs": [
        {
          "output_type": "execute_result",
          "data": {
            "text/plain": [
              "(3823, 65)"
            ]
          },
          "metadata": {},
          "execution_count": 6
        }
      ]
    },
    {
      "cell_type": "code",
      "source": [
        "sample_num = 100\n",
        "print(arr[sample_num,-1])\n",
        "plt.imshow(arr[sample_num,:-1].reshape(8,8))"
      ],
      "metadata": {
        "id": "8DUWDIde0v1H",
        "outputId": "e33af1be-8379-493a-bfdf-d7421adc477b",
        "colab": {
          "base_uri": "https://localhost:8080/",
          "height": 301
        }
      },
      "execution_count": 68,
      "outputs": [
        {
          "output_type": "stream",
          "name": "stdout",
          "text": [
            "4.0\n"
          ]
        },
        {
          "output_type": "execute_result",
          "data": {
            "text/plain": [
              "<matplotlib.image.AxesImage at 0x7f847294e6d0>"
            ]
          },
          "metadata": {},
          "execution_count": 68
        },
        {
          "output_type": "display_data",
          "data": {
            "text/plain": [
              "<Figure size 432x288 with 1 Axes>"
            ],
            "image/png": "[encoded data removed]"
          },
          "metadata": {
            "needs_background": "light"
          }
        }
      ]
    },
    {
      "cell_type": "markdown",
      "source": [
        "### Processiamo i dati"
      ],
      "metadata": {
        "id": "cPqdhg5g6BCT"
      }
    },
    {
      "cell_type": "code",
      "source": [
        "X = arr[:,:-1]\n",
        "y = arr[:,-1]"
      ],
      "metadata": {
        "id": "2p14BM9v1RYh"
      },
      "execution_count": 13,
      "outputs": []
    },
    {
      "cell_type": "code",
      "source": [
        "X_train, X_test, y_train, y_test = train_test_split(X, y, test_size=.2, random_state=RANDOM_SEED)"
      ],
      "metadata": {
        "id": "ZLYnr-xm1YQr"
      },
      "execution_count": 48,
      "outputs": []
    },
    {
      "cell_type": "code",
      "source": [
        "x_max = X_train.max()\n",
        "X_train/=x_max\n",
        "X_test/=x_max"
      ],
      "metadata": {
        "id": "OpADoUfP3sEL"
      },
      "execution_count": 49,
      "outputs": []
    },
    {
      "cell_type": "markdown",
      "source": [
        "### Multilayer Perceptron"
      ],
      "metadata": {
        "id": "7Hvfuhbp6ElQ"
      }
    },
    {
      "cell_type": "code",
      "source": [
        "mlp = MLPClassifier(random_state=RANDOM_SEED)\n",
        "mlp.fit(X_train, y_train)"
      ],
      "metadata": {
        "id": "snGxzlPh4PMX",
        "outputId": "8e6648c0-dda3-4ec9-f3ca-4446e03a053e",
        "colab": {
          "base_uri": "https://localhost:8080/"
        }
      },
      "execution_count": 65,
      "outputs": [
        {
          "output_type": "stream",
          "name": "stderr",
          "text": [
            "/usr/local/lib/python3.8/dist-packages/sklearn/neural_network/_multilayer_perceptron.py:692: ConvergenceWarning: Stochastic Optimizer: Maximum iterations (200) reached and the optimization hasn't converged yet.\n",
            "  warnings.warn(\n"
          ]
        },
        {
          "output_type": "execute_result",
          "data": {
            "text/plain": [
              "MLPClassifier(random_state=0)"
            ]
          },
          "metadata": {},
          "execution_count": 65
        }
      ]
    },
    {
      "cell_type": "code",
      "source": [
        "mlp.score(X_test, y_test)"
      ],
      "metadata": {
        "id": "04EuZBFQ4sP8",
        "outputId": "297a4d2c-bfdd-46f0-f413-237a604d95d1",
        "colab": {
          "base_uri": "https://localhost:8080/"
        }
      },
      "execution_count": 67,
      "outputs": [
        {
          "output_type": "execute_result",
          "data": {
            "text/plain": [
              "0.9764705882352941"
            ]
          },
          "metadata": {},
          "execution_count": 67
        }
      ]
    },
    {
      "cell_type": "code",
      "source": [
        "y_pred = mlp.predict(X_test)\n",
        "print(classification_report(y_test, y_pred))"
      ],
      "metadata": {
        "id": "GTNVLU_m4vmU",
        "outputId": "eafea7ea-8c02-4754-e4cf-623116dac9cb",
        "colab": {
          "base_uri": "https://localhost:8080/"
        }
      },
      "execution_count": 28,
      "outputs": [
        {
          "output_type": "stream",
          "name": "stdout",
          "text": [
            "              precision    recall  f1-score   support\n",
            "\n",
            "         0.0       1.00      0.98      0.99        81\n",
            "         1.0       0.97      1.00      0.99        76\n",
            "         2.0       1.00      0.97      0.99        76\n",
            "         3.0       0.97      1.00      0.99        75\n",
            "         4.0       0.97      0.97      0.97        72\n",
            "         5.0       1.00      0.94      0.97        71\n",
            "         6.0       0.94      0.99      0.96        76\n",
            "         7.0       1.00      1.00      1.00        75\n",
            "         8.0       0.97      0.96      0.97        80\n",
            "         9.0       0.95      0.96      0.96        83\n",
            "\n",
            "    accuracy                           0.98       765\n",
            "   macro avg       0.98      0.98      0.98       765\n",
            "weighted avg       0.98      0.98      0.98       765\n",
            "\n"
          ]
        }
      ]
    },
    {
      "cell_type": "markdown",
      "source": [
        "### Regressione Logistica"
      ],
      "metadata": {
        "id": "dRqqM94j6Cyy"
      }
    },
    {
      "cell_type": "code",
      "source": [
        "lr = LogisticRegression()\n",
        "lr.fit(X_train, y_train)\n",
        "lr.score(X_test, y_test)"
      ],
      "metadata": {
        "id": "D1qP2rmH5LQG"
      },
      "execution_count": null,
      "outputs": []
    }
  ]
}