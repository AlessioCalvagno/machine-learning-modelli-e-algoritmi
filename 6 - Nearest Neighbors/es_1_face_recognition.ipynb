{
 "cells": [
  {
   "cell_type": "markdown",
   "id": "2cd51b5e",
   "metadata": {},
   "source": [
    "## Face Recognition\n",
    "In questa esercitazione dovrai addestrare un sistema di face recognition, in grado di riconoscere 40 differenti persone. Per farlo puoi utilizzare l'Olivetti Faces Dataset scaricabile [da qui](https://github.com/ProfAI/machine-learning-modelli-e-algoritmi/raw/main/datasets/olivetti_faces.zip) e un algoritmo Nearest Neighbors, l'accuracy del modello deve essere almeno del 80%. Quale tra le 40 persone ti somiglia di più?\n",
    "\n"
   ]
  },
  {
   "cell_type": "code",
   "execution_count": null,
   "id": "17b2e8dd",
   "metadata": {},
   "outputs": [],
   "source": []
  }
 ],
 "metadata": {
  "kernelspec": {
   "display_name": "Python 3 (ipykernel)",
   "language": "python",
   "name": "python3"
  },
  "language_info": {
   "codemirror_mode": {
    "name": "ipython",
    "version": 3
   },
   "file_extension": ".py",
   "mimetype": "text/x-python",
   "name": "python",
   "nbconvert_exporter": "python",
   "pygments_lexer": "ipython3",
   "version": "3.11.5"
  }
 },
 "nbformat": 4,
 "nbformat_minor": 5
}
