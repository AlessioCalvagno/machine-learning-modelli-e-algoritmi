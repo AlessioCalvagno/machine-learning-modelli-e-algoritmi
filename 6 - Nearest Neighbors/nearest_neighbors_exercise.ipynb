{
  "nbformat": 4,
  "nbformat_minor": 0,
  "metadata": {
    "colab": {
      "provenance": [],
      "authorship_tag": "ABX9TyPk9EYkdphDrS+rE4EHUoUH",
      "include_colab_link": true
    },
    "kernelspec": {
      "name": "python3",
      "display_name": "Python 3"
    },
    "language_info": {
      "name": "python"
    }
  },
  "cells": [
    {
      "cell_type": "markdown",
      "metadata": {
        "id": "view-in-github",
        "colab_type": "text"
      },
      "source": [
        "<a href=\"https://colab.research.google.com/github/ProfAI/machine-learning-modelli-e-algoritmi/blob/main/6%20-%20Nearest%20Neighbors/nearest_neighbors_exercise.ipynb\" target=\"_parent\"><img src=\"https://colab.research.google.com/assets/colab-badge.svg\" alt=\"Open In Colab\"/></a>"
      ]
    },
    {
      "cell_type": "markdown",
      "source": [
        "## Face Recognition\n",
        "In questa esercitazione dovrai addestrare un sistema di face recognition, in grado di riconoscere 40 differenti persone. Per farlo puoi utilizzare l'Olivetti Faces Dataset scaricabile [da qui](https://github.com/ProfAI/machine-learning-modelli-e-algoritmi/raw/main/datasets/olivetti_faces.zip) e un algoritmo Nearest Neighbors, l'accuracy del modello deve essere almeno del 80%. Quale tra le 40 persone ti somiglia di più?\n",
        "\n"
      ],
      "metadata": {
        "id": "qF17tdFB5uMj"
      }
    },
    {
      "cell_type": "code",
      "source": [
        "!wget https://github.com/ProfAI/machine-learning-modelli-e-algoritmi/raw/main/datasets/olivetti_faces.zip\n",
        "!unzip olivetti_faces.zip"
      ],
      "metadata": {
        "colab": {
          "base_uri": "https://localhost:8080/"
        },
        "id": "kGSWph395qAb",
        "outputId": "fd6d2f1d-3347-42b5-d999-c6c033279d57"
      },
      "execution_count": 80,
      "outputs": [
        {
          "output_type": "stream",
          "name": "stdout",
          "text": [
            "--2023-08-13 12:51:15--  https://github.com/ProfAI/machine-learning-modelli-e-algoritmi/raw/main/datasets/olivetti_faces.zip\n",
            "Resolving github.com (github.com)... 140.82.114.4\n",
            "Connecting to github.com (github.com)|140.82.114.4|:443... connected.\n",
            "HTTP request sent, awaiting response... 302 Found\n",
            "Location: https://raw.githubusercontent.com/ProfAI/machine-learning-modelli-e-algoritmi/main/datasets/olivetti_faces.zip [following]\n",
            "--2023-08-13 12:51:16--  https://raw.githubusercontent.com/ProfAI/machine-learning-modelli-e-algoritmi/main/datasets/olivetti_faces.zip\n",
            "Resolving raw.githubusercontent.com (raw.githubusercontent.com)... 185.199.108.133, 185.199.111.133, 185.199.110.133, ...\n",
            "Connecting to raw.githubusercontent.com (raw.githubusercontent.com)|185.199.108.133|:443... connected.\n",
            "HTTP request sent, awaiting response... 200 OK\n",
            "Length: 912321 (891K) [application/zip]\n",
            "Saving to: ‘olivetti_faces.zip’\n",
            "\n",
            "olivetti_faces.zip  100%[===================>] 890.94K  --.-KB/s    in 0.05s   \n",
            "\n",
            "2023-08-13 12:51:16 (16.4 MB/s) - ‘olivetti_faces.zip’ saved [912321/912321]\n",
            "\n",
            "Archive:  olivetti_faces.zip\n",
            "   creating: olivetti_faces/\n",
            "   creating: olivetti_faces/27/\n",
            " extracting: olivetti_faces/27/5.jpg  \n",
            " extracting: olivetti_faces/27/6.jpg  \n",
            " extracting: olivetti_faces/27/7.jpg  \n",
            " extracting: olivetti_faces/27/2.jpg  \n",
            " extracting: olivetti_faces/27/9.jpg  \n",
            " extracting: olivetti_faces/27/0.jpg  \n",
            " extracting: olivetti_faces/27/4.jpg  \n",
            " extracting: olivetti_faces/27/1.jpg  \n",
            " extracting: olivetti_faces/27/3.jpg  \n",
            " extracting: olivetti_faces/27/8.jpg  \n",
            "   creating: olivetti_faces/16/\n",
            " extracting: olivetti_faces/16/5.jpg  \n",
            " extracting: olivetti_faces/16/6.jpg  \n",
            " extracting: olivetti_faces/16/7.jpg  \n",
            " extracting: olivetti_faces/16/2.jpg  \n",
            " extracting: olivetti_faces/16/9.jpg  \n",
            " extracting: olivetti_faces/16/0.jpg  \n",
            " extracting: olivetti_faces/16/4.jpg  \n",
            " extracting: olivetti_faces/16/1.jpg  \n",
            " extracting: olivetti_faces/16/3.jpg  \n",
            " extracting: olivetti_faces/16/8.jpg  \n",
            "   creating: olivetti_faces/14/\n",
            " extracting: olivetti_faces/14/5.jpg  \n",
            " extracting: olivetti_faces/14/6.jpg  \n",
            " extracting: olivetti_faces/14/7.jpg  \n",
            " extracting: olivetti_faces/14/2.jpg  \n",
            " extracting: olivetti_faces/14/9.jpg  \n",
            " extracting: olivetti_faces/14/0.jpg  \n",
            " extracting: olivetti_faces/14/4.jpg  \n",
            " extracting: olivetti_faces/14/1.jpg  \n",
            " extracting: olivetti_faces/14/3.jpg  \n",
            " extracting: olivetti_faces/14/8.jpg  \n",
            "   creating: olivetti_faces/7/\n",
            " extracting: olivetti_faces/7/5.jpg  \n",
            " extracting: olivetti_faces/7/6.jpg  \n",
            " extracting: olivetti_faces/7/7.jpg  \n",
            " extracting: olivetti_faces/7/2.jpg  \n",
            " extracting: olivetti_faces/7/9.jpg  \n",
            " extracting: olivetti_faces/7/0.jpg  \n",
            " extracting: olivetti_faces/7/4.jpg  \n",
            " extracting: olivetti_faces/7/1.jpg  \n",
            " extracting: olivetti_faces/7/3.jpg  \n",
            " extracting: olivetti_faces/7/8.jpg  \n",
            "   creating: olivetti_faces/36/\n",
            " extracting: olivetti_faces/36/5.jpg  \n",
            " extracting: olivetti_faces/36/6.jpg  \n",
            " extracting: olivetti_faces/36/7.jpg  \n",
            " extracting: olivetti_faces/36/2.jpg  \n",
            " extracting: olivetti_faces/36/9.jpg  \n",
            " extracting: olivetti_faces/36/0.jpg  \n",
            " extracting: olivetti_faces/36/4.jpg  \n",
            " extracting: olivetti_faces/36/1.jpg  \n",
            " extracting: olivetti_faces/36/3.jpg  \n",
            " extracting: olivetti_faces/36/8.jpg  \n",
            "   creating: olivetti_faces/38/\n",
            " extracting: olivetti_faces/38/5.jpg  \n",
            " extracting: olivetti_faces/38/6.jpg  \n",
            " extracting: olivetti_faces/38/7.jpg  \n",
            " extracting: olivetti_faces/38/2.jpg  \n",
            " extracting: olivetti_faces/38/9.jpg  \n",
            " extracting: olivetti_faces/38/0.jpg  \n",
            " extracting: olivetti_faces/38/4.jpg  \n",
            " extracting: olivetti_faces/38/1.jpg  \n",
            " extracting: olivetti_faces/38/3.jpg  \n",
            " extracting: olivetti_faces/38/8.jpg  \n",
            "   creating: olivetti_faces/20/\n",
            " extracting: olivetti_faces/20/5.jpg  \n",
            " extracting: olivetti_faces/20/6.jpg  \n",
            " extracting: olivetti_faces/20/7.jpg  \n",
            " extracting: olivetti_faces/20/2.jpg  \n",
            " extracting: olivetti_faces/20/9.jpg  \n",
            " extracting: olivetti_faces/20/0.jpg  \n",
            " extracting: olivetti_faces/20/4.jpg  \n",
            " extracting: olivetti_faces/20/1.jpg  \n",
            " extracting: olivetti_faces/20/3.jpg  \n",
            " extracting: olivetti_faces/20/8.jpg  \n",
            "   creating: olivetti_faces/13/\n",
            " extracting: olivetti_faces/13/5.jpg  \n",
            " extracting: olivetti_faces/13/6.jpg  \n",
            " extracting: olivetti_faces/13/7.jpg  \n",
            " extracting: olivetti_faces/13/2.jpg  \n",
            " extracting: olivetti_faces/13/9.jpg  \n",
            " extracting: olivetti_faces/13/0.jpg  \n",
            " extracting: olivetti_faces/13/4.jpg  \n",
            " extracting: olivetti_faces/13/1.jpg  \n",
            " extracting: olivetti_faces/13/3.jpg  \n",
            " extracting: olivetti_faces/13/8.jpg  \n",
            "   creating: olivetti_faces/10/\n",
            " extracting: olivetti_faces/10/5.jpg  \n",
            " extracting: olivetti_faces/10/6.jpg  \n",
            " extracting: olivetti_faces/10/7.jpg  \n",
            " extracting: olivetti_faces/10/2.jpg  \n",
            " extracting: olivetti_faces/10/9.jpg  \n",
            " extracting: olivetti_faces/10/0.jpg  \n",
            " extracting: olivetti_faces/10/4.jpg  \n",
            " extracting: olivetti_faces/10/1.jpg  \n",
            " extracting: olivetti_faces/10/3.jpg  \n",
            " extracting: olivetti_faces/10/8.jpg  \n",
            "   creating: olivetti_faces/24/\n",
            " extracting: olivetti_faces/24/5.jpg  \n",
            " extracting: olivetti_faces/24/6.jpg  \n",
            " extracting: olivetti_faces/24/7.jpg  \n",
            " extracting: olivetti_faces/24/2.jpg  \n",
            " extracting: olivetti_faces/24/9.jpg  \n",
            " extracting: olivetti_faces/24/0.jpg  \n",
            " extracting: olivetti_faces/24/4.jpg  \n",
            " extracting: olivetti_faces/24/1.jpg  \n",
            " extracting: olivetti_faces/24/3.jpg  \n",
            " extracting: olivetti_faces/24/8.jpg  \n",
            "   creating: olivetti_faces/15/\n",
            " extracting: olivetti_faces/15/5.jpg  \n",
            " extracting: olivetti_faces/15/6.jpg  \n",
            " extracting: olivetti_faces/15/7.jpg  \n",
            " extracting: olivetti_faces/15/2.jpg  \n",
            " extracting: olivetti_faces/15/9.jpg  \n",
            " extracting: olivetti_faces/15/0.jpg  \n",
            " extracting: olivetti_faces/15/4.jpg  \n",
            " extracting: olivetti_faces/15/1.jpg  \n",
            " extracting: olivetti_faces/15/3.jpg  \n",
            " extracting: olivetti_faces/15/8.jpg  \n",
            "   creating: olivetti_faces/34/\n",
            " extracting: olivetti_faces/34/5.jpg  \n",
            " extracting: olivetti_faces/34/6.jpg  \n",
            " extracting: olivetti_faces/34/7.jpg  \n",
            " extracting: olivetti_faces/34/2.jpg  \n",
            " extracting: olivetti_faces/34/9.jpg  \n",
            " extracting: olivetti_faces/34/0.jpg  \n",
            " extracting: olivetti_faces/34/4.jpg  \n",
            " extracting: olivetti_faces/34/1.jpg  \n",
            " extracting: olivetti_faces/34/3.jpg  \n",
            " extracting: olivetti_faces/34/8.jpg  \n",
            "   creating: olivetti_faces/9/\n",
            " extracting: olivetti_faces/9/5.jpg  \n",
            " extracting: olivetti_faces/9/6.jpg  \n",
            " extracting: olivetti_faces/9/7.jpg  \n",
            " extracting: olivetti_faces/9/2.jpg  \n",
            " extracting: olivetti_faces/9/9.jpg  \n",
            " extracting: olivetti_faces/9/0.jpg  \n",
            " extracting: olivetti_faces/9/4.jpg  \n",
            " extracting: olivetti_faces/9/1.jpg  \n",
            " extracting: olivetti_faces/9/3.jpg  \n",
            " extracting: olivetti_faces/9/8.jpg  \n",
            "   creating: olivetti_faces/17/\n",
            " extracting: olivetti_faces/17/5.jpg  \n",
            " extracting: olivetti_faces/17/6.jpg  \n",
            " extracting: olivetti_faces/17/7.jpg  \n",
            " extracting: olivetti_faces/17/2.jpg  \n",
            " extracting: olivetti_faces/17/9.jpg  \n",
            " extracting: olivetti_faces/17/0.jpg  \n",
            " extracting: olivetti_faces/17/4.jpg  \n",
            " extracting: olivetti_faces/17/1.jpg  \n",
            " extracting: olivetti_faces/17/3.jpg  \n",
            " extracting: olivetti_faces/17/8.jpg  \n",
            "   creating: olivetti_faces/12/\n",
            " extracting: olivetti_faces/12/5.jpg  \n",
            " extracting: olivetti_faces/12/6.jpg  \n",
            " extracting: olivetti_faces/12/7.jpg  \n",
            " extracting: olivetti_faces/12/2.jpg  \n",
            " extracting: olivetti_faces/12/9.jpg  \n",
            " extracting: olivetti_faces/12/0.jpg  \n",
            " extracting: olivetti_faces/12/4.jpg  \n",
            " extracting: olivetti_faces/12/1.jpg  \n",
            " extracting: olivetti_faces/12/3.jpg  \n",
            " extracting: olivetti_faces/12/8.jpg  \n",
            "   creating: olivetti_faces/25/\n",
            " extracting: olivetti_faces/25/5.jpg  \n",
            " extracting: olivetti_faces/25/6.jpg  \n",
            " extracting: olivetti_faces/25/7.jpg  \n",
            " extracting: olivetti_faces/25/2.jpg  \n",
            " extracting: olivetti_faces/25/9.jpg  \n",
            " extracting: olivetti_faces/25/0.jpg  \n",
            " extracting: olivetti_faces/25/4.jpg  \n",
            " extracting: olivetti_faces/25/1.jpg  \n",
            " extracting: olivetti_faces/25/3.jpg  \n",
            " extracting: olivetti_faces/25/8.jpg  \n",
            "   creating: olivetti_faces/32/\n",
            " extracting: olivetti_faces/32/5.jpg  \n",
            " extracting: olivetti_faces/32/6.jpg  \n",
            " extracting: olivetti_faces/32/7.jpg  \n",
            " extracting: olivetti_faces/32/2.jpg  \n",
            " extracting: olivetti_faces/32/9.jpg  \n",
            " extracting: olivetti_faces/32/0.jpg  \n",
            " extracting: olivetti_faces/32/4.jpg  \n",
            " extracting: olivetti_faces/32/1.jpg  \n",
            " extracting: olivetti_faces/32/3.jpg  \n",
            " extracting: olivetti_faces/32/8.jpg  \n",
            "   creating: olivetti_faces/23/\n",
            " extracting: olivetti_faces/23/5.jpg  \n",
            " extracting: olivetti_faces/23/6.jpg  \n",
            " extracting: olivetti_faces/23/7.jpg  \n",
            " extracting: olivetti_faces/23/2.jpg  \n",
            " extracting: olivetti_faces/23/9.jpg  \n",
            " extracting: olivetti_faces/23/0.jpg  \n",
            " extracting: olivetti_faces/23/4.jpg  \n",
            " extracting: olivetti_faces/23/1.jpg  \n",
            " extracting: olivetti_faces/23/3.jpg  \n",
            " extracting: olivetti_faces/23/8.jpg  \n",
            "   creating: olivetti_faces/0/\n",
            " extracting: olivetti_faces/0/5.jpg  \n",
            " extracting: olivetti_faces/0/6.jpg  \n",
            " extracting: olivetti_faces/0/7.jpg  \n",
            " extracting: olivetti_faces/0/2.jpg  \n",
            " extracting: olivetti_faces/0/9.jpg  \n",
            " extracting: olivetti_faces/0/0.jpg  \n",
            " extracting: olivetti_faces/0/4.jpg  \n",
            " extracting: olivetti_faces/0/1.jpg  \n",
            " extracting: olivetti_faces/0/3.jpg  \n",
            " extracting: olivetti_faces/0/8.jpg  \n",
            "   creating: olivetti_faces/1/\n",
            " extracting: olivetti_faces/1/5.jpg  \n",
            " extracting: olivetti_faces/1/6.jpg  \n",
            " extracting: olivetti_faces/1/7.jpg  \n",
            " extracting: olivetti_faces/1/2.jpg  \n",
            " extracting: olivetti_faces/1/9.jpg  \n",
            " extracting: olivetti_faces/1/0.jpg  \n",
            " extracting: olivetti_faces/1/4.jpg  \n",
            " extracting: olivetti_faces/1/1.jpg  \n",
            " extracting: olivetti_faces/1/3.jpg  \n",
            " extracting: olivetti_faces/1/8.jpg  \n",
            "   creating: olivetti_faces/8/\n",
            " extracting: olivetti_faces/8/5.jpg  \n",
            " extracting: olivetti_faces/8/6.jpg  \n",
            " extracting: olivetti_faces/8/7.jpg  \n",
            " extracting: olivetti_faces/8/2.jpg  \n",
            " extracting: olivetti_faces/8/9.jpg  \n",
            " extracting: olivetti_faces/8/0.jpg  \n",
            " extracting: olivetti_faces/8/4.jpg  \n",
            " extracting: olivetti_faces/8/1.jpg  \n",
            " extracting: olivetti_faces/8/3.jpg  \n",
            " extracting: olivetti_faces/8/8.jpg  \n",
            "   creating: olivetti_faces/35/\n",
            " extracting: olivetti_faces/35/5.jpg  \n",
            " extracting: olivetti_faces/35/6.jpg  \n",
            " extracting: olivetti_faces/35/7.jpg  \n",
            " extracting: olivetti_faces/35/2.jpg  \n",
            " extracting: olivetti_faces/35/9.jpg  \n",
            " extracting: olivetti_faces/35/0.jpg  \n",
            " extracting: olivetti_faces/35/4.jpg  \n",
            " extracting: olivetti_faces/35/1.jpg  \n",
            " extracting: olivetti_faces/35/3.jpg  \n",
            " extracting: olivetti_faces/35/8.jpg  \n",
            "   creating: olivetti_faces/4/\n",
            " extracting: olivetti_faces/4/5.jpg  \n",
            " extracting: olivetti_faces/4/6.jpg  \n",
            " extracting: olivetti_faces/4/7.jpg  \n",
            " extracting: olivetti_faces/4/2.jpg  \n",
            " extracting: olivetti_faces/4/9.jpg  \n",
            " extracting: olivetti_faces/4/0.jpg  \n",
            " extracting: olivetti_faces/4/4.jpg  \n",
            " extracting: olivetti_faces/4/1.jpg  \n",
            " extracting: olivetti_faces/4/3.jpg  \n",
            " extracting: olivetti_faces/4/8.jpg  \n",
            "   creating: olivetti_faces/2/\n",
            " extracting: olivetti_faces/2/5.jpg  \n",
            " extracting: olivetti_faces/2/6.jpg  \n",
            " extracting: olivetti_faces/2/7.jpg  \n",
            " extracting: olivetti_faces/2/2.jpg  \n",
            " extracting: olivetti_faces/2/9.jpg  \n",
            " extracting: olivetti_faces/2/0.jpg  \n",
            " extracting: olivetti_faces/2/4.jpg  \n",
            " extracting: olivetti_faces/2/1.jpg  \n",
            " extracting: olivetti_faces/2/3.jpg  \n",
            " extracting: olivetti_faces/2/8.jpg  \n",
            "   creating: olivetti_faces/29/\n",
            " extracting: olivetti_faces/29/5.jpg  \n",
            " extracting: olivetti_faces/29/6.jpg  \n",
            " extracting: olivetti_faces/29/7.jpg  \n",
            " extracting: olivetti_faces/29/2.jpg  \n",
            " extracting: olivetti_faces/29/9.jpg  \n",
            " extracting: olivetti_faces/29/0.jpg  \n",
            " extracting: olivetti_faces/29/4.jpg  \n",
            " extracting: olivetti_faces/29/1.jpg  \n",
            " extracting: olivetti_faces/29/3.jpg  \n",
            " extracting: olivetti_faces/29/8.jpg  \n",
            "   creating: olivetti_faces/37/\n",
            " extracting: olivetti_faces/37/5.jpg  \n",
            " extracting: olivetti_faces/37/6.jpg  \n",
            " extracting: olivetti_faces/37/7.jpg  \n",
            " extracting: olivetti_faces/37/2.jpg  \n",
            " extracting: olivetti_faces/37/9.jpg  \n",
            " extracting: olivetti_faces/37/0.jpg  \n",
            " extracting: olivetti_faces/37/4.jpg  \n",
            " extracting: olivetti_faces/37/1.jpg  \n",
            " extracting: olivetti_faces/37/3.jpg  \n",
            " extracting: olivetti_faces/37/8.jpg  \n",
            "   creating: olivetti_faces/18/\n",
            " extracting: olivetti_faces/18/5.jpg  \n",
            " extracting: olivetti_faces/18/6.jpg  \n",
            " extracting: olivetti_faces/18/7.jpg  \n",
            " extracting: olivetti_faces/18/2.jpg  \n",
            " extracting: olivetti_faces/18/9.jpg  \n",
            " extracting: olivetti_faces/18/0.jpg  \n",
            " extracting: olivetti_faces/18/4.jpg  \n",
            " extracting: olivetti_faces/18/1.jpg  \n",
            " extracting: olivetti_faces/18/3.jpg  \n",
            " extracting: olivetti_faces/18/8.jpg  \n",
            "   creating: olivetti_faces/30/\n",
            " extracting: olivetti_faces/30/5.jpg  \n",
            " extracting: olivetti_faces/30/6.jpg  \n",
            " extracting: olivetti_faces/30/7.jpg  \n",
            " extracting: olivetti_faces/30/2.jpg  \n",
            " extracting: olivetti_faces/30/9.jpg  \n",
            " extracting: olivetti_faces/30/0.jpg  \n",
            " extracting: olivetti_faces/30/4.jpg  \n",
            " extracting: olivetti_faces/30/1.jpg  \n",
            " extracting: olivetti_faces/30/3.jpg  \n",
            " extracting: olivetti_faces/30/8.jpg  \n",
            "   creating: olivetti_faces/33/\n",
            " extracting: olivetti_faces/33/5.jpg  \n",
            " extracting: olivetti_faces/33/6.jpg  \n",
            " extracting: olivetti_faces/33/7.jpg  \n",
            " extracting: olivetti_faces/33/2.jpg  \n",
            " extracting: olivetti_faces/33/9.jpg  \n",
            " extracting: olivetti_faces/33/0.jpg  \n",
            " extracting: olivetti_faces/33/4.jpg  \n",
            " extracting: olivetti_faces/33/1.jpg  \n",
            " extracting: olivetti_faces/33/3.jpg  \n",
            " extracting: olivetti_faces/33/8.jpg  \n",
            "   creating: olivetti_faces/21/\n",
            " extracting: olivetti_faces/21/5.jpg  \n",
            " extracting: olivetti_faces/21/6.jpg  \n",
            " extracting: olivetti_faces/21/7.jpg  \n",
            " extracting: olivetti_faces/21/2.jpg  \n",
            " extracting: olivetti_faces/21/9.jpg  \n",
            " extracting: olivetti_faces/21/0.jpg  \n",
            " extracting: olivetti_faces/21/4.jpg  \n",
            " extracting: olivetti_faces/21/1.jpg  \n",
            " extracting: olivetti_faces/21/3.jpg  \n",
            " extracting: olivetti_faces/21/8.jpg  \n",
            "   creating: olivetti_faces/11/\n",
            " extracting: olivetti_faces/11/5.jpg  \n",
            " extracting: olivetti_faces/11/6.jpg  \n",
            " extracting: olivetti_faces/11/7.jpg  \n",
            " extracting: olivetti_faces/11/2.jpg  \n",
            " extracting: olivetti_faces/11/9.jpg  \n",
            " extracting: olivetti_faces/11/0.jpg  \n",
            " extracting: olivetti_faces/11/4.jpg  \n",
            " extracting: olivetti_faces/11/1.jpg  \n",
            " extracting: olivetti_faces/11/3.jpg  \n",
            " extracting: olivetti_faces/11/8.jpg  \n",
            "   creating: olivetti_faces/39/\n",
            " extracting: olivetti_faces/39/5.jpg  \n",
            " extracting: olivetti_faces/39/6.jpg  \n",
            " extracting: olivetti_faces/39/7.jpg  \n",
            " extracting: olivetti_faces/39/2.jpg  \n",
            " extracting: olivetti_faces/39/9.jpg  \n",
            " extracting: olivetti_faces/39/0.jpg  \n",
            " extracting: olivetti_faces/39/4.jpg  \n",
            " extracting: olivetti_faces/39/1.jpg  \n",
            " extracting: olivetti_faces/39/3.jpg  \n",
            " extracting: olivetti_faces/39/8.jpg  \n",
            "   creating: olivetti_faces/3/\n",
            " extracting: olivetti_faces/3/5.jpg  \n",
            " extracting: olivetti_faces/3/6.jpg  \n",
            " extracting: olivetti_faces/3/7.jpg  \n",
            " extracting: olivetti_faces/3/2.jpg  \n",
            " extracting: olivetti_faces/3/9.jpg  \n",
            " extracting: olivetti_faces/3/0.jpg  \n",
            " extracting: olivetti_faces/3/4.jpg  \n",
            " extracting: olivetti_faces/3/1.jpg  \n",
            " extracting: olivetti_faces/3/3.jpg  \n",
            " extracting: olivetti_faces/3/8.jpg  \n",
            "   creating: olivetti_faces/19/\n",
            " extracting: olivetti_faces/19/5.jpg  \n",
            " extracting: olivetti_faces/19/6.jpg  \n",
            " extracting: olivetti_faces/19/7.jpg  \n",
            " extracting: olivetti_faces/19/2.jpg  \n",
            " extracting: olivetti_faces/19/9.jpg  \n",
            " extracting: olivetti_faces/19/0.jpg  \n",
            " extracting: olivetti_faces/19/4.jpg  \n",
            " extracting: olivetti_faces/19/1.jpg  \n",
            " extracting: olivetti_faces/19/3.jpg  \n",
            " extracting: olivetti_faces/19/8.jpg  \n",
            "   creating: olivetti_faces/31/\n",
            " extracting: olivetti_faces/31/5.jpg  \n",
            " extracting: olivetti_faces/31/6.jpg  \n",
            " extracting: olivetti_faces/31/7.jpg  \n",
            " extracting: olivetti_faces/31/2.jpg  \n",
            " extracting: olivetti_faces/31/9.jpg  \n",
            " extracting: olivetti_faces/31/0.jpg  \n",
            " extracting: olivetti_faces/31/4.jpg  \n",
            " extracting: olivetti_faces/31/1.jpg  \n",
            " extracting: olivetti_faces/31/3.jpg  \n",
            " extracting: olivetti_faces/31/8.jpg  \n",
            "   creating: olivetti_faces/28/\n",
            " extracting: olivetti_faces/28/5.jpg  \n",
            " extracting: olivetti_faces/28/6.jpg  \n",
            " extracting: olivetti_faces/28/7.jpg  \n",
            " extracting: olivetti_faces/28/2.jpg  \n",
            " extracting: olivetti_faces/28/9.jpg  \n",
            " extracting: olivetti_faces/28/0.jpg  \n",
            " extracting: olivetti_faces/28/4.jpg  \n",
            " extracting: olivetti_faces/28/1.jpg  \n",
            " extracting: olivetti_faces/28/3.jpg  \n",
            " extracting: olivetti_faces/28/8.jpg  \n",
            "   creating: olivetti_faces/26/\n",
            " extracting: olivetti_faces/26/5.jpg  \n",
            " extracting: olivetti_faces/26/6.jpg  \n",
            " extracting: olivetti_faces/26/7.jpg  \n",
            " extracting: olivetti_faces/26/2.jpg  \n",
            " extracting: olivetti_faces/26/9.jpg  \n",
            " extracting: olivetti_faces/26/0.jpg  \n",
            " extracting: olivetti_faces/26/4.jpg  \n",
            " extracting: olivetti_faces/26/1.jpg  \n",
            " extracting: olivetti_faces/26/3.jpg  \n",
            " extracting: olivetti_faces/26/8.jpg  \n",
            "   creating: olivetti_faces/22/\n",
            " extracting: olivetti_faces/22/5.jpg  \n",
            " extracting: olivetti_faces/22/6.jpg  \n",
            " extracting: olivetti_faces/22/7.jpg  \n",
            " extracting: olivetti_faces/22/2.jpg  \n",
            " extracting: olivetti_faces/22/9.jpg  \n",
            " extracting: olivetti_faces/22/0.jpg  \n",
            " extracting: olivetti_faces/22/4.jpg  \n",
            " extracting: olivetti_faces/22/1.jpg  \n",
            " extracting: olivetti_faces/22/3.jpg  \n",
            " extracting: olivetti_faces/22/8.jpg  \n",
            "   creating: olivetti_faces/6/\n",
            " extracting: olivetti_faces/6/5.jpg  \n",
            " extracting: olivetti_faces/6/6.jpg  \n",
            " extracting: olivetti_faces/6/7.jpg  \n",
            " extracting: olivetti_faces/6/2.jpg  \n",
            " extracting: olivetti_faces/6/9.jpg  \n",
            " extracting: olivetti_faces/6/0.jpg  \n",
            " extracting: olivetti_faces/6/4.jpg  \n",
            " extracting: olivetti_faces/6/1.jpg  \n",
            " extracting: olivetti_faces/6/3.jpg  \n",
            " extracting: olivetti_faces/6/8.jpg  \n",
            "   creating: olivetti_faces/5/\n",
            " extracting: olivetti_faces/5/5.jpg  \n",
            " extracting: olivetti_faces/5/6.jpg  \n",
            " extracting: olivetti_faces/5/7.jpg  \n",
            " extracting: olivetti_faces/5/2.jpg  \n",
            " extracting: olivetti_faces/5/9.jpg  \n",
            " extracting: olivetti_faces/5/0.jpg  \n",
            " extracting: olivetti_faces/5/4.jpg  \n",
            " extracting: olivetti_faces/5/1.jpg  \n",
            " extracting: olivetti_faces/5/3.jpg  \n",
            " extracting: olivetti_faces/5/8.jpg  \n"
          ]
        }
      ]
    },
    {
      "cell_type": "code",
      "source": [
        "!rm -r olivetti_faces"
      ],
      "metadata": {
        "id": "e2A8OULI8VVy"
      },
      "execution_count": 79,
      "outputs": []
    },
    {
      "cell_type": "code",
      "source": [
        "import matplotlib.pyplot as plt\n",
        "import numpy as np\n",
        "from sklearn.model_selection import train_test_split\n",
        "from sklearn.neighbors import KNeighborsClassifier\n",
        "from os import listdir\n",
        "import cv2"
      ],
      "metadata": {
        "id": "s9amnn9ZXfYq"
      },
      "execution_count": 73,
      "outputs": []
    },
    {
      "cell_type": "code",
      "source": [
        "RANDOM_SEED = 0\n",
        "img_size = (64, 64)"
      ],
      "metadata": {
        "id": "be0j9vvgZEbY"
      },
      "execution_count": 74,
      "outputs": []
    },
    {
      "cell_type": "code",
      "source": [
        "FOLDER = \"olivetti_faces\"\n",
        "\n",
        "X = []\n",
        "y = []\n",
        "\n",
        "for dir in listdir(FOLDER):\n",
        "  path = FOLDER+\"/\"+dir+\"/\"\n",
        "  for f in listdir(path):\n",
        "    if \".jpg\" in f:\n",
        "      x = cv2.imread(path+f, cv2.IMREAD_GRAYSCALE)\n",
        "      X.append(x)\n",
        "      y.append(dir)\n",
        "\n",
        "X = np.array(X)\n",
        "y = np.array(y)\n",
        "\n",
        "X.shape"
      ],
      "metadata": {
        "colab": {
          "base_uri": "https://localhost:8080/"
        },
        "id": "x0MnMEDe7I_s",
        "outputId": "d945900d-0cc0-4e05-ac05-f3315e09609b"
      },
      "execution_count": 85,
      "outputs": [
        {
          "output_type": "execute_result",
          "data": {
            "text/plain": [
              "(400, 64, 64)"
            ]
          },
          "metadata": {},
          "execution_count": 85
        }
      ]
    },
    {
      "cell_type": "code",
      "source": [
        "plt.imshow(X[0], cmap=\"gray\")"
      ],
      "metadata": {
        "colab": {
          "base_uri": "https://localhost:8080/",
          "height": 450
        },
        "id": "F5H9zs-dXzXJ",
        "outputId": "1ae2f74d-94aa-4049-9bb9-c31f533b0156"
      },
      "execution_count": 86,
      "outputs": [
        {
          "output_type": "execute_result",
          "data": {
            "text/plain": [
              "<matplotlib.image.AxesImage at 0x7de717245e70>"
            ]
          },
          "metadata": {},
          "execution_count": 86
        },
        {
          "output_type": "display_data",
          "data": {
            "text/plain": [
              "<Figure size 640x480 with 1 Axes>"
            ],
            "image/png": "[encoded data removed]"
          },
          "metadata": {}
        }
      ]
    },
    {
      "cell_type": "code",
      "source": [
        "X = X.reshape(X.shape[0], X.shape[1]*X.shape[2])\n",
        "X.shape"
      ],
      "metadata": {
        "colab": {
          "base_uri": "https://localhost:8080/"
        },
        "id": "M8AfPYlG-WIv",
        "outputId": "5a653533-ddae-4254-b47f-e8317d369455"
      },
      "execution_count": 87,
      "outputs": [
        {
          "output_type": "execute_result",
          "data": {
            "text/plain": [
              "(400, 4096)"
            ]
          },
          "metadata": {},
          "execution_count": 87
        }
      ]
    },
    {
      "cell_type": "code",
      "source": [
        "plt.imshow(X[0].reshape(img_size[0], img_size[1]), cmap=\"gray\")"
      ],
      "metadata": {
        "colab": {
          "base_uri": "https://localhost:8080/",
          "height": 450
        },
        "id": "i7XBvb5Q-mYx",
        "outputId": "bac0d321-0a42-4395-8bf3-378d641b1a0e"
      },
      "execution_count": 88,
      "outputs": [
        {
          "output_type": "execute_result",
          "data": {
            "text/plain": [
              "<matplotlib.image.AxesImage at 0x7de7171f3c70>"
            ]
          },
          "metadata": {},
          "execution_count": 88
        },
        {
          "output_type": "display_data",
          "data": {
            "text/plain": [
              "<Figure size 640x480 with 1 Axes>"
            ],
            "image/png": "[encoded data removed]"
          },
          "metadata": {}
        }
      ]
    },
    {
      "cell_type": "code",
      "source": [
        "X_train, X_test, y_train, y_test = train_test_split(X, y, test_size=.2, random_state=RANDOM_SEED)"
      ],
      "metadata": {
        "id": "zSWD2E38Xz6h"
      },
      "execution_count": 99,
      "outputs": []
    },
    {
      "cell_type": "code",
      "source": [
        "X_train = X_train/255\n",
        "X_test = X_test/255"
      ],
      "metadata": {
        "id": "boKhQjHGALCo"
      },
      "execution_count": 100,
      "outputs": []
    },
    {
      "cell_type": "code",
      "source": [
        "(1-np.isin(y_test, y_train)).sum()"
      ],
      "metadata": {
        "colab": {
          "base_uri": "https://localhost:8080/"
        },
        "id": "rQ4jP4_-dSyR",
        "outputId": "8ea6fd0f-c95f-42f1-8944-1e5a3ee53650"
      },
      "execution_count": 101,
      "outputs": [
        {
          "output_type": "execute_result",
          "data": {
            "text/plain": [
              "0"
            ]
          },
          "metadata": {},
          "execution_count": 101
        }
      ]
    },
    {
      "cell_type": "code",
      "source": [
        "knn = KNeighborsClassifier()\n",
        "knn.fit(X_train, y_train)"
      ],
      "metadata": {
        "colab": {
          "base_uri": "https://localhost:8080/",
          "height": 74
        },
        "id": "6m7uSzhnYmO7",
        "outputId": "1b294467-f0b7-4a27-f7e9-754e5661351e"
      },
      "execution_count": 102,
      "outputs": [
        {
          "output_type": "execute_result",
          "data": {
            "text/plain": [
              "KNeighborsClassifier()"
            ],
            "text/html": [
              "<style>#sk-container-id-7 {color: black;background-color: white;}#sk-container-id-7 pre{padding: 0;}#sk-container-id-7 div.sk-toggleable {background-color: white;}#sk-container-id-7 label.sk-toggleable__label {cursor: pointer;display: block;width: 100%;margin-bottom: 0;padding: 0.3em;box-sizing: border-box;text-align: center;}#sk-container-id-7 label.sk-toggleable__label-arrow:before {content: \"▸\";float: left;margin-right: 0.25em;color: #696969;}#sk-container-id-7 label.sk-toggleable__label-arrow:hover:before {color: black;}#sk-container-id-7 div.sk-estimator:hover label.sk-toggleable__label-arrow:before {color: black;}#sk-container-id-7 div.sk-toggleable__content {max-height: 0;max-width: 0;overflow: hidden;text-align: left;background-color: #f0f8ff;}#sk-container-id-7 div.sk-toggleable__content pre {margin: 0.2em;color: black;border-radius: 0.25em;background-color: #f0f8ff;}#sk-container-id-7 input.sk-toggleable__control:checked~div.sk-toggleable__content {max-height: 200px;max-width: 100%;overflow: auto;}#sk-container-id-7 input.sk-toggleable__control:checked~label.sk-toggleable__label-arrow:before {content: \"▾\";}#sk-container-id-7 div.sk-estimator input.sk-toggleable__control:checked~label.sk-toggleable__label {background-color: #d4ebff;}#sk-container-id-7 div.sk-label input.sk-toggleable__control:checked~label.sk-toggleable__label {background-color: #d4ebff;}#sk-container-id-7 input.sk-hidden--visually {border: 0;clip: rect(1px 1px 1px 1px);clip: rect(1px, 1px, 1px, 1px);height: 1px;margin: -1px;overflow: hidden;padding: 0;position: absolute;width: 1px;}#sk-container-id-7 div.sk-estimator {font-family: monospace;background-color: #f0f8ff;border: 1px dotted black;border-radius: 0.25em;box-sizing: border-box;margin-bottom: 0.5em;}#sk-container-id-7 div.sk-estimator:hover {background-color: #d4ebff;}#sk-container-id-7 div.sk-parallel-item::after {content: \"\";width: 100%;border-bottom: 1px solid gray;flex-grow: 1;}#sk-container-id-7 div.sk-label:hover label.sk-toggleable__label {background-color: #d4ebff;}#sk-container-id-7 div.sk-serial::before {content: \"\";position: absolute;border-left: 1px solid gray;box-sizing: border-box;top: 0;bottom: 0;left: 50%;z-index: 0;}#sk-container-id-7 div.sk-serial {display: flex;flex-direction: column;align-items: center;background-color: white;padding-right: 0.2em;padding-left: 0.2em;position: relative;}#sk-container-id-7 div.sk-item {position: relative;z-index: 1;}#sk-container-id-7 div.sk-parallel {display: flex;align-items: stretch;justify-content: center;background-color: white;position: relative;}#sk-container-id-7 div.sk-item::before, #sk-container-id-7 div.sk-parallel-item::before {content: \"\";position: absolute;border-left: 1px solid gray;box-sizing: border-box;top: 0;bottom: 0;left: 50%;z-index: -1;}#sk-container-id-7 div.sk-parallel-item {display: flex;flex-direction: column;z-index: 1;position: relative;background-color: white;}#sk-container-id-7 div.sk-parallel-item:first-child::after {align-self: flex-end;width: 50%;}#sk-container-id-7 div.sk-parallel-item:last-child::after {align-self: flex-start;width: 50%;}#sk-container-id-7 div.sk-parallel-item:only-child::after {width: 0;}#sk-container-id-7 div.sk-dashed-wrapped {border: 1px dashed gray;margin: 0 0.4em 0.5em 0.4em;box-sizing: border-box;padding-bottom: 0.4em;background-color: white;}#sk-container-id-7 div.sk-label label {font-family: monospace;font-weight: bold;display: inline-block;line-height: 1.2em;}#sk-container-id-7 div.sk-label-container {text-align: center;}#sk-container-id-7 div.sk-container {/* jupyter's `normalize.less` sets `[hidden] { display: none; }` but bootstrap.min.css set `[hidden] { display: none !important; }` so we also need the `!important` here to be able to override the default hidden behavior on the sphinx rendered scikit-learn.org. See: https://github.com/scikit-learn/scikit-learn/issues/21755 */display: inline-block !important;position: relative;}#sk-container-id-7 div.sk-text-repr-fallback {display: none;}</style><div id=\"sk-container-id-7\" class=\"sk-top-container\"><div class=\"sk-text-repr-fallback\"><pre>KNeighborsClassifier()</pre><b>In a Jupyter environment, please rerun this cell to show the HTML representation or trust the notebook. <br />On GitHub, the HTML representation is unable to render, please try loading this page with nbviewer.org.</b></div><div class=\"sk-container\" hidden><div class=\"sk-item\"><div class=\"sk-estimator sk-toggleable\"><input class=\"sk-toggleable__control sk-hidden--visually\" id=\"sk-estimator-id-7\" type=\"checkbox\" checked><label for=\"sk-estimator-id-7\" class=\"sk-toggleable__label sk-toggleable__label-arrow\">KNeighborsClassifier</label><div class=\"sk-toggleable__content\"><pre>KNeighborsClassifier()</pre></div></div></div></div></div>"
            ]
          },
          "metadata": {},
          "execution_count": 102
        }
      ]
    },
    {
      "cell_type": "code",
      "source": [
        "knn.score(X_test, y_test)"
      ],
      "metadata": {
        "colab": {
          "base_uri": "https://localhost:8080/"
        },
        "id": "6nasZ2cQcCgQ",
        "outputId": "5cf117bc-f34d-4ce5-d978-b80c1203463c"
      },
      "execution_count": 103,
      "outputs": [
        {
          "output_type": "execute_result",
          "data": {
            "text/plain": [
              "0.8"
            ]
          },
          "metadata": {},
          "execution_count": 103
        }
      ]
    },
    {
      "cell_type": "code",
      "source": [
        "x = cv2.imread(\"me.jpg\", cv2.IMREAD_GRAYSCALE)\n",
        "x = cv2.resize(x, img_size)\n",
        "plt.imshow(x, cmap=\"gray\")"
      ],
      "metadata": {
        "colab": {
          "base_uri": "https://localhost:8080/",
          "height": 450
        },
        "id": "DhzkDB_kAEnq",
        "outputId": "61ebe45c-da8a-476e-edff-be78197cfb70"
      },
      "execution_count": 117,
      "outputs": [
        {
          "output_type": "execute_result",
          "data": {
            "text/plain": [
              "<matplotlib.image.AxesImage at 0x7de7135d71f0>"
            ]
          },
          "metadata": {},
          "execution_count": 117
        },
        {
          "output_type": "display_data",
          "data": {
            "text/plain": [
              "<Figure size 640x480 with 1 Axes>"
            ],
            "image/png": "[encoded data removed]"
          },
          "metadata": {}
        }
      ]
    },
    {
      "cell_type": "code",
      "source": [
        "x = x.reshape(img_size[0]*img_size[1])\n",
        "x = x/255"
      ],
      "metadata": {
        "id": "X7htK3WyAhw4"
      },
      "execution_count": 118,
      "outputs": []
    },
    {
      "cell_type": "code",
      "source": [
        "x.shape"
      ],
      "metadata": {
        "colab": {
          "base_uri": "https://localhost:8080/"
        },
        "id": "KoYfh8I8A_NG",
        "outputId": "e1ace378-d2cc-497e-9a0a-4287408408cf"
      },
      "execution_count": 119,
      "outputs": [
        {
          "output_type": "execute_result",
          "data": {
            "text/plain": [
              "(4096,)"
            ]
          },
          "metadata": {},
          "execution_count": 119
        }
      ]
    },
    {
      "cell_type": "code",
      "source": [
        "y_pred = knn.predict([x])\n",
        "y_pred"
      ],
      "metadata": {
        "colab": {
          "base_uri": "https://localhost:8080/"
        },
        "id": "nbQcHChmAumZ",
        "outputId": "848f560e-c7aa-4ffa-8596-45db15b17ad1"
      },
      "execution_count": 124,
      "outputs": [
        {
          "output_type": "execute_result",
          "data": {
            "text/plain": [
              "array(['20'], dtype='<U2')"
            ]
          },
          "metadata": {},
          "execution_count": 124
        }
      ]
    },
    {
      "cell_type": "code",
      "source": [
        "y_proba = knn.predict_proba([x])[0]\n",
        "\n",
        "for i in range(y_proba.shape[0]):\n",
        "  print(f\"Person {knn.classes_[i]} = {y_proba[i]} probability\")"
      ],
      "metadata": {
        "colab": {
          "base_uri": "https://localhost:8080/"
        },
        "id": "lqwYX5NNAy39",
        "outputId": "cf93a68b-02c9-4399-a81f-3d42f3cb4c0b"
      },
      "execution_count": 126,
      "outputs": [
        {
          "output_type": "stream",
          "name": "stdout",
          "text": [
            "Person 0 = 0.0 probability\n",
            "Person 1 = 0.0 probability\n",
            "Person 10 = 0.0 probability\n",
            "Person 11 = 0.0 probability\n",
            "Person 12 = 0.0 probability\n",
            "Person 13 = 0.0 probability\n",
            "Person 14 = 0.0 probability\n",
            "Person 15 = 0.0 probability\n",
            "Person 16 = 0.0 probability\n",
            "Person 17 = 0.0 probability\n",
            "Person 18 = 0.0 probability\n",
            "Person 19 = 0.0 probability\n",
            "Person 2 = 0.0 probability\n",
            "Person 20 = 0.4 probability\n",
            "Person 21 = 0.0 probability\n",
            "Person 22 = 0.0 probability\n",
            "Person 23 = 0.0 probability\n",
            "Person 24 = 0.0 probability\n",
            "Person 25 = 0.4 probability\n",
            "Person 26 = 0.0 probability\n",
            "Person 27 = 0.0 probability\n",
            "Person 28 = 0.0 probability\n",
            "Person 29 = 0.2 probability\n",
            "Person 3 = 0.0 probability\n",
            "Person 30 = 0.0 probability\n",
            "Person 31 = 0.0 probability\n",
            "Person 32 = 0.0 probability\n",
            "Person 33 = 0.0 probability\n",
            "Person 34 = 0.0 probability\n",
            "Person 35 = 0.0 probability\n",
            "Person 36 = 0.0 probability\n",
            "Person 37 = 0.0 probability\n",
            "Person 38 = 0.0 probability\n",
            "Person 39 = 0.0 probability\n",
            "Person 4 = 0.0 probability\n",
            "Person 5 = 0.0 probability\n",
            "Person 6 = 0.0 probability\n",
            "Person 7 = 0.0 probability\n",
            "Person 8 = 0.0 probability\n",
            "Person 9 = 0.0 probability\n"
          ]
        }
      ]
    },
    {
      "cell_type": "code",
      "source": [],
      "metadata": {
        "id": "h0-uc-rgCWr8"
      },
      "execution_count": null,
      "outputs": []
    }
  ]
}